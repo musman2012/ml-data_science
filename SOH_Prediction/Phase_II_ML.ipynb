{
  "nbformat": 4,
  "nbformat_minor": 0,
  "metadata": {
    "kernelspec": {
      "name": "python3",
      "display_name": "Python 3"
    },
    "language_info": {
      "codemirror_mode": {
        "name": "ipython",
        "version": 3
      },
      "file_extension": ".py",
      "mimetype": "text/x-python",
      "name": "python",
      "nbconvert_exporter": "python",
      "pygments_lexer": "ipython3",
      "version": "3.8.2"
    },
    "colab": {
      "name": "Phase-II-ML.ipynb",
      "provenance": [],
      "collapsed_sections": [],
      "toc_visible": true,
      "include_colab_link": true
    },
    "accelerator": "GPU"
  },
  "cells": [
    {
      "cell_type": "markdown",
      "metadata": {
        "id": "view-in-github",
        "colab_type": "text"
      },
      "source": [
        "<a href=\"https://colab.research.google.com/github/musman2012/ml-data_science/blob/master/SOH_Prediction/Phase_II_ML.ipynb\" target=\"_parent\"><img src=\"https://colab.research.google.com/assets/colab-badge.svg\" alt=\"Open In Colab\"/></a>"
      ]
    },
    {
      "cell_type": "markdown",
      "metadata": {
        "id": "Wl0VoGJWwWB3",
        "colab_type": "text"
      },
      "source": [
        "## Phase-II\n",
        "This phase would have the following keys steps to perform:\n",
        "* Apply labelling/binning on the data (yet to decided the technique)\n",
        "* Make three clusters/subsets of the data on the basis of cycle variable\n",
        "* Apply Association Rule Mining on the subsets\n",
        "* Apply prediction technique to classify the target variable soh\n",
        "* Evaluate Models Results"
      ]
    },
    {
      "cell_type": "code",
      "metadata": {
        "id": "0kFBzlTt2OeS",
        "colab_type": "code",
        "outputId": "f222e072-4f14-435c-d392-053c8a280735",
        "colab": {
          "base_uri": "https://localhost:8080/",
          "height": 124
        }
      },
      "source": [
        "from google.colab import drive\n",
        "import os\n",
        "drive.mount('/content/drive')\n",
        "os.chdir(\"/content/drive/My Drive/Colab Notebooks\")"
      ],
      "execution_count": 0,
      "outputs": [
        {
          "output_type": "stream",
          "text": [
            "Go to this URL in a browser: https://accounts.google.com/o/oauth2/auth?client_id=947318989803-6bn6qk8qdgf4n4g3pfee6491hc0brc4i.apps.googleusercontent.com&redirect_uri=urn%3aietf%3awg%3aoauth%3a2.0%3aoob&response_type=code&scope=email%20https%3a%2f%2fwww.googleapis.com%2fauth%2fdocs.test%20https%3a%2f%2fwww.googleapis.com%2fauth%2fdrive%20https%3a%2f%2fwww.googleapis.com%2fauth%2fdrive.photos.readonly%20https%3a%2f%2fwww.googleapis.com%2fauth%2fpeopleapi.readonly\n",
            "\n",
            "Enter your authorization code:\n",
            "··········\n",
            "Mounted at /content/drive\n"
          ],
          "name": "stdout"
        }
      ]
    },
    {
      "cell_type": "code",
      "metadata": {
        "id": "T55m3YcfO1aY",
        "colab_type": "code",
        "colab": {}
      },
      "source": [
        "import platform\n",
        "import dill\n",
        "dill.load_session('phase-II-ml.db')"
      ],
      "execution_count": 0,
      "outputs": []
    },
    {
      "cell_type": "code",
      "metadata": {
        "id": "yOuimqKdwWB_",
        "colab_type": "code",
        "colab": {}
      },
      "source": [
        "'''\n",
        "authored by Muhammad Usman (musman14@student.bradford.ac.uk)\n",
        "\n",
        "!pip install pandas\n",
        "!pip install numpy\n",
        "!pip install matplotlib\n",
        "!pip install seaborn\n",
        "'''\n",
        "import pandas as pd\n",
        "import numpy as np\n",
        "import matplotlib.pyplot as plt\n",
        "%matplotlib inline\n",
        "import seaborn as sns\n",
        "\n",
        "FILE_PATH = \"batteries_processed.csv\"\n",
        "bat_data = pd.read_csv(FILE_PATH, error_bad_lines = False)    # reading the data from csv file"
      ],
      "execution_count": 0,
      "outputs": []
    },
    {
      "cell_type": "markdown",
      "metadata": {
        "id": "1wRl0angRr4z",
        "colab_type": "text"
      },
      "source": [
        "### Removing the same features which were removed in Phase-I as well"
      ]
    },
    {
      "cell_type": "code",
      "metadata": {
        "id": "Ui-a0NJ9wWCD",
        "colab_type": "code",
        "outputId": "f2222ac0-556a-45aa-f926-410693450dd9",
        "colab": {
          "base_uri": "https://localhost:8080/",
          "height": 222
        }
      },
      "source": [
        "filtered_data = bat_data.copy()\n",
        "columns_to_drop = ['id', 'vin', 'vin_prefix', 'record_id','recorded_time', 'actual_time', 'arrival_time', 'powermode', 'mheader_vin', 'mheader_time', 'mheader_type', 'message','cat4', 'cat6', 'cat7', 'inlet_coolant_temp','cooling_energy_used', 'max_soh_cell', 'power_soh', 'min_soh', 'max_soh', 'min_soh_cell_id','imbalance_percent', 'parkingdata_hvbattavgsocoatevent', 'parkingdata_hvbattavtempatevent']\n",
        "filtered_data = filtered_data.drop(columns=columns_to_drop)\n",
        "filtered_data.head()"
      ],
      "execution_count": 0,
      "outputs": [
        {
          "output_type": "execute_result",
          "data": {
            "text/html": [
              "<div>\n",
              "<style scoped>\n",
              "    .dataframe tbody tr th:only-of-type {\n",
              "        vertical-align: middle;\n",
              "    }\n",
              "\n",
              "    .dataframe tbody tr th {\n",
              "        vertical-align: top;\n",
              "    }\n",
              "\n",
              "    .dataframe thead th {\n",
              "        text-align: right;\n",
              "    }\n",
              "</style>\n",
              "<table border=\"1\" class=\"dataframe\">\n",
              "  <thead>\n",
              "    <tr style=\"text-align: right;\">\n",
              "      <th></th>\n",
              "      <th>odometer</th>\n",
              "      <th>ambient_temp</th>\n",
              "      <th>vehicle_speed</th>\n",
              "      <th>balancing_trigger_cell</th>\n",
              "      <th>balancing_status</th>\n",
              "      <th>min_voltage</th>\n",
              "      <th>min_temp</th>\n",
              "      <th>traction_current</th>\n",
              "      <th>max_voltage</th>\n",
              "      <th>imbalance</th>\n",
              "      <th>traction_voltage</th>\n",
              "      <th>min_temp_cell</th>\n",
              "      <th>min_voltage_cell</th>\n",
              "      <th>max_voltage_cell</th>\n",
              "      <th>max_temp</th>\n",
              "      <th>max_temp_cell</th>\n",
              "      <th>fuse_temp</th>\n",
              "      <th>emodule_temp</th>\n",
              "      <th>thermal_manager_mode</th>\n",
              "      <th>outlet_coolant_temp</th>\n",
              "      <th>soh</th>\n",
              "      <th>fast_charge_count</th>\n",
              "      <th>cycle</th>\n",
              "      <th>num_cycle</th>\n",
              "      <th>fast_charge</th>\n",
              "      <th>trip_distance</th>\n",
              "    </tr>\n",
              "  </thead>\n",
              "  <tbody>\n",
              "    <tr>\n",
              "      <th>0</th>\n",
              "      <td>10619</td>\n",
              "      <td>6.5</td>\n",
              "      <td>0.0</td>\n",
              "      <td>22</td>\n",
              "      <td>noBalancing</td>\n",
              "      <td>4.107</td>\n",
              "      <td>12</td>\n",
              "      <td>0.675</td>\n",
              "      <td>4.153</td>\n",
              "      <td>0.046</td>\n",
              "      <td>445</td>\n",
              "      <td>15</td>\n",
              "      <td>22</td>\n",
              "      <td>96</td>\n",
              "      <td>14</td>\n",
              "      <td>1</td>\n",
              "      <td>870</td>\n",
              "      <td>135</td>\n",
              "      <td>activeHeating</td>\n",
              "      <td>195</td>\n",
              "      <td>98.0</td>\n",
              "      <td>0</td>\n",
              "      <td>storage</td>\n",
              "      <td>1</td>\n",
              "      <td>False</td>\n",
              "      <td>0</td>\n",
              "    </tr>\n",
              "    <tr>\n",
              "      <th>1</th>\n",
              "      <td>9531</td>\n",
              "      <td>4.0</td>\n",
              "      <td>0.0</td>\n",
              "      <td>22</td>\n",
              "      <td>noBalancing</td>\n",
              "      <td>3.983</td>\n",
              "      <td>6</td>\n",
              "      <td>7.375</td>\n",
              "      <td>4.008</td>\n",
              "      <td>0.025</td>\n",
              "      <td>432</td>\n",
              "      <td>16</td>\n",
              "      <td>36</td>\n",
              "      <td>21</td>\n",
              "      <td>7</td>\n",
              "      <td>1</td>\n",
              "      <td>870</td>\n",
              "      <td>90</td>\n",
              "      <td>idle</td>\n",
              "      <td>55</td>\n",
              "      <td>98.0</td>\n",
              "      <td>0</td>\n",
              "      <td>storage</td>\n",
              "      <td>1</td>\n",
              "      <td>False</td>\n",
              "      <td>-1088</td>\n",
              "    </tr>\n",
              "    <tr>\n",
              "      <th>2</th>\n",
              "      <td>9531</td>\n",
              "      <td>4.0</td>\n",
              "      <td>0.0</td>\n",
              "      <td>22</td>\n",
              "      <td>noBalancing</td>\n",
              "      <td>3.989</td>\n",
              "      <td>6</td>\n",
              "      <td>7.600</td>\n",
              "      <td>4.023</td>\n",
              "      <td>0.034</td>\n",
              "      <td>431</td>\n",
              "      <td>16</td>\n",
              "      <td>36</td>\n",
              "      <td>76</td>\n",
              "      <td>7</td>\n",
              "      <td>1</td>\n",
              "      <td>870</td>\n",
              "      <td>90</td>\n",
              "      <td>idle</td>\n",
              "      <td>55</td>\n",
              "      <td>98.0</td>\n",
              "      <td>0</td>\n",
              "      <td>storage</td>\n",
              "      <td>1</td>\n",
              "      <td>False</td>\n",
              "      <td>0</td>\n",
              "    </tr>\n",
              "    <tr>\n",
              "      <th>3</th>\n",
              "      <td>9531</td>\n",
              "      <td>4.0</td>\n",
              "      <td>0.0</td>\n",
              "      <td>22</td>\n",
              "      <td>noBalancing</td>\n",
              "      <td>3.984</td>\n",
              "      <td>6</td>\n",
              "      <td>6.850</td>\n",
              "      <td>4.020</td>\n",
              "      <td>0.036</td>\n",
              "      <td>431</td>\n",
              "      <td>16</td>\n",
              "      <td>36</td>\n",
              "      <td>79</td>\n",
              "      <td>7</td>\n",
              "      <td>1</td>\n",
              "      <td>870</td>\n",
              "      <td>90</td>\n",
              "      <td>idle</td>\n",
              "      <td>55</td>\n",
              "      <td>98.0</td>\n",
              "      <td>0</td>\n",
              "      <td>storage</td>\n",
              "      <td>1</td>\n",
              "      <td>False</td>\n",
              "      <td>0</td>\n",
              "    </tr>\n",
              "    <tr>\n",
              "      <th>4</th>\n",
              "      <td>9531</td>\n",
              "      <td>4.0</td>\n",
              "      <td>0.0</td>\n",
              "      <td>22</td>\n",
              "      <td>noBalancing</td>\n",
              "      <td>3.980</td>\n",
              "      <td>6</td>\n",
              "      <td>7.000</td>\n",
              "      <td>4.015</td>\n",
              "      <td>0.035</td>\n",
              "      <td>431</td>\n",
              "      <td>16</td>\n",
              "      <td>36</td>\n",
              "      <td>85</td>\n",
              "      <td>7</td>\n",
              "      <td>1</td>\n",
              "      <td>870</td>\n",
              "      <td>90</td>\n",
              "      <td>idle</td>\n",
              "      <td>55</td>\n",
              "      <td>98.0</td>\n",
              "      <td>0</td>\n",
              "      <td>storage</td>\n",
              "      <td>1</td>\n",
              "      <td>False</td>\n",
              "      <td>0</td>\n",
              "    </tr>\n",
              "  </tbody>\n",
              "</table>\n",
              "</div>"
            ],
            "text/plain": [
              "   odometer  ambient_temp  vehicle_speed  ...  num_cycle fast_charge  trip_distance\n",
              "0     10619           6.5            0.0  ...          1       False              0\n",
              "1      9531           4.0            0.0  ...          1       False          -1088\n",
              "2      9531           4.0            0.0  ...          1       False              0\n",
              "3      9531           4.0            0.0  ...          1       False              0\n",
              "4      9531           4.0            0.0  ...          1       False              0\n",
              "\n",
              "[5 rows x 26 columns]"
            ]
          },
          "metadata": {
            "tags": []
          },
          "execution_count": 4
        }
      ]
    },
    {
      "cell_type": "code",
      "metadata": {
        "id": "ruSwbroBgeEO",
        "colab_type": "code",
        "outputId": "93d97ca6-dd17-4bfd-9670-40429541c11e",
        "colab": {
          "base_uri": "https://localhost:8080/",
          "height": 485
        }
      },
      "source": [
        "print(filtered_data.nunique() > 4)"
      ],
      "execution_count": 0,
      "outputs": [
        {
          "output_type": "stream",
          "text": [
            "odometer                   True\n",
            "ambient_temp               True\n",
            "vehicle_speed              True\n",
            "balancing_trigger_cell     True\n",
            "balancing_status          False\n",
            "min_voltage                True\n",
            "min_temp                   True\n",
            "traction_current           True\n",
            "max_voltage                True\n",
            "imbalance                  True\n",
            "traction_voltage           True\n",
            "min_temp_cell              True\n",
            "min_voltage_cell           True\n",
            "max_voltage_cell           True\n",
            "max_temp                   True\n",
            "max_temp_cell              True\n",
            "fuse_temp                 False\n",
            "emodule_temp               True\n",
            "thermal_manager_mode       True\n",
            "outlet_coolant_temp        True\n",
            "soh                        True\n",
            "fast_charge_count          True\n",
            "cycle                     False\n",
            "num_cycle                  True\n",
            "fast_charge               False\n",
            "trip_distance              True\n",
            "dtype: bool\n"
          ],
          "name": "stdout"
        }
      ]
    },
    {
      "cell_type": "markdown",
      "metadata": {
        "id": "Q9uPO_FPUTqe",
        "colab_type": "text"
      },
      "source": [
        "### Binning the data (Stuck Here So Far)\n",
        "We have to choices for Binning the data here:\n",
        "* Fixed-Width Binning: Specific fixed widths for each of the bins which are usually pre-defined\n",
        "* Adaptive Binning: Such binning in which we use the data distribution itself to decide bin ranges\n",
        "\n",
        "&rightarrow; Quantile Binning is one of the type of Adaptive Binning which helps in partitioning the continuous valued distribution of a specific numeric field into discrete contiguous bins or intervals. We will use this binning to convert out continuous variables into categorical variables."
      ]
    },
    {
      "cell_type": "code",
      "metadata": {
        "id": "QOXlgnatwWB5",
        "colab_type": "code",
        "colab": {}
      },
      "source": [
        "cont_data = filtered_data.select_dtypes('int64') ## finding all the continuous variables\n",
        "cont_data.head()\n",
        "cont_data = cont_data.loc[:, cont_data.nunique() > 4] ## selecting only those having more than 4 unique vals\n",
        "quantiles = dict()\n",
        "quantile_list = [0, .25, .5, .75, 1.]\n",
        "for col in cont_data.columns:\n",
        "  quantiles[col] = cont_data[col].quantile(quantile_list)\n",
        "#quantiles"
      ],
      "execution_count": 0,
      "outputs": []
    },
    {
      "cell_type": "code",
      "metadata": {
        "id": "ZAFFghVzahsa",
        "colab_type": "code",
        "outputId": "1fbe2920-9848-4b96-91b7-f5df6e17d924",
        "colab": {
          "base_uri": "https://localhost:8080/",
          "height": 401
        }
      },
      "source": [
        "for col in cont_data.columns:\n",
        "    #cont_data[col] = pd.qcut(cont_data[col], q=quantile_list)\n",
        "    #cont_data[col] = pd.qcut(cont_data[col],q=quantiles[col], labels=quantile_labels)\n",
        "    cont_data[col] = pd.qcut(cont_data[col], duplicates='drop', q=5)\n",
        "\n",
        "cont_data.head()"
      ],
      "execution_count": 0,
      "outputs": [
        {
          "output_type": "error",
          "ename": "TypeError",
          "evalue": "ignored",
          "traceback": [
            "\u001b[0;31m---------------------------------------------------------------------------\u001b[0m",
            "\u001b[0;31mTypeError\u001b[0m                                 Traceback (most recent call last)",
            "\u001b[0;32m<ipython-input-37-8de4505676bb>\u001b[0m in \u001b[0;36m<module>\u001b[0;34m()\u001b[0m\n\u001b[1;32m      2\u001b[0m     \u001b[0;31m#cont_data[col] = pd.qcut(cont_data[col], q=quantile_list)\u001b[0m\u001b[0;34m\u001b[0m\u001b[0;34m\u001b[0m\u001b[0;34m\u001b[0m\u001b[0m\n\u001b[1;32m      3\u001b[0m     \u001b[0;31m#cont_data[col] = pd.qcut(cont_data[col],q=quantiles[col], labels=quantile_labels)\u001b[0m\u001b[0;34m\u001b[0m\u001b[0;34m\u001b[0m\u001b[0;34m\u001b[0m\u001b[0m\n\u001b[0;32m----> 4\u001b[0;31m     \u001b[0mcont_data\u001b[0m\u001b[0;34m[\u001b[0m\u001b[0mcol\u001b[0m\u001b[0;34m]\u001b[0m \u001b[0;34m=\u001b[0m \u001b[0mpd\u001b[0m\u001b[0;34m.\u001b[0m\u001b[0mqcut\u001b[0m\u001b[0;34m(\u001b[0m\u001b[0mcont_data\u001b[0m\u001b[0;34m[\u001b[0m\u001b[0mcol\u001b[0m\u001b[0;34m]\u001b[0m\u001b[0;34m,\u001b[0m \u001b[0mduplicates\u001b[0m\u001b[0;34m=\u001b[0m\u001b[0;34m'drop'\u001b[0m\u001b[0;34m,\u001b[0m \u001b[0mq\u001b[0m\u001b[0;34m=\u001b[0m\u001b[0;36m5\u001b[0m\u001b[0;34m)\u001b[0m\u001b[0;34m\u001b[0m\u001b[0;34m\u001b[0m\u001b[0m\n\u001b[0m\u001b[1;32m      5\u001b[0m \u001b[0;34m\u001b[0m\u001b[0m\n\u001b[1;32m      6\u001b[0m \u001b[0mcont_data\u001b[0m\u001b[0;34m.\u001b[0m\u001b[0mhead\u001b[0m\u001b[0;34m(\u001b[0m\u001b[0;34m)\u001b[0m\u001b[0;34m\u001b[0m\u001b[0;34m\u001b[0m\u001b[0m\n",
            "\u001b[0;32m/usr/local/lib/python3.6/dist-packages/pandas/core/reshape/tile.py\u001b[0m in \u001b[0;36mqcut\u001b[0;34m(x, q, labels, retbins, precision, duplicates)\u001b[0m\n\u001b[1;32m    338\u001b[0m     \u001b[0;32melse\u001b[0m\u001b[0;34m:\u001b[0m\u001b[0;34m\u001b[0m\u001b[0;34m\u001b[0m\u001b[0m\n\u001b[1;32m    339\u001b[0m         \u001b[0mquantiles\u001b[0m \u001b[0;34m=\u001b[0m \u001b[0mq\u001b[0m\u001b[0;34m\u001b[0m\u001b[0;34m\u001b[0m\u001b[0m\n\u001b[0;32m--> 340\u001b[0;31m     \u001b[0mbins\u001b[0m \u001b[0;34m=\u001b[0m \u001b[0malgos\u001b[0m\u001b[0;34m.\u001b[0m\u001b[0mquantile\u001b[0m\u001b[0;34m(\u001b[0m\u001b[0mx\u001b[0m\u001b[0;34m,\u001b[0m \u001b[0mquantiles\u001b[0m\u001b[0;34m)\u001b[0m\u001b[0;34m\u001b[0m\u001b[0;34m\u001b[0m\u001b[0m\n\u001b[0m\u001b[1;32m    341\u001b[0m     fac, bins = _bins_to_cuts(\n\u001b[1;32m    342\u001b[0m         \u001b[0mx\u001b[0m\u001b[0;34m,\u001b[0m\u001b[0;34m\u001b[0m\u001b[0;34m\u001b[0m\u001b[0m\n",
            "\u001b[0;32m/usr/local/lib/python3.6/dist-packages/pandas/core/algorithms.py\u001b[0m in \u001b[0;36mquantile\u001b[0;34m(x, q, interpolation_method)\u001b[0m\n\u001b[1;32m   1061\u001b[0m     \u001b[0;32melse\u001b[0m\u001b[0;34m:\u001b[0m\u001b[0;34m\u001b[0m\u001b[0;34m\u001b[0m\u001b[0m\n\u001b[1;32m   1062\u001b[0m         \u001b[0mq\u001b[0m \u001b[0;34m=\u001b[0m \u001b[0mnp\u001b[0m\u001b[0;34m.\u001b[0m\u001b[0masarray\u001b[0m\u001b[0;34m(\u001b[0m\u001b[0mq\u001b[0m\u001b[0;34m,\u001b[0m \u001b[0mnp\u001b[0m\u001b[0;34m.\u001b[0m\u001b[0mfloat64\u001b[0m\u001b[0;34m)\u001b[0m\u001b[0;34m\u001b[0m\u001b[0;34m\u001b[0m\u001b[0m\n\u001b[0;32m-> 1063\u001b[0;31m         \u001b[0mresult\u001b[0m \u001b[0;34m=\u001b[0m \u001b[0;34m[\u001b[0m\u001b[0m_get_score\u001b[0m\u001b[0;34m(\u001b[0m\u001b[0mx\u001b[0m\u001b[0;34m)\u001b[0m \u001b[0;32mfor\u001b[0m \u001b[0mx\u001b[0m \u001b[0;32min\u001b[0m \u001b[0mq\u001b[0m\u001b[0;34m]\u001b[0m\u001b[0;34m\u001b[0m\u001b[0;34m\u001b[0m\u001b[0m\n\u001b[0m\u001b[1;32m   1064\u001b[0m         \u001b[0mresult\u001b[0m \u001b[0;34m=\u001b[0m \u001b[0mnp\u001b[0m\u001b[0;34m.\u001b[0m\u001b[0marray\u001b[0m\u001b[0;34m(\u001b[0m\u001b[0mresult\u001b[0m\u001b[0;34m,\u001b[0m \u001b[0mdtype\u001b[0m\u001b[0;34m=\u001b[0m\u001b[0mnp\u001b[0m\u001b[0;34m.\u001b[0m\u001b[0mfloat64\u001b[0m\u001b[0;34m)\u001b[0m\u001b[0;34m\u001b[0m\u001b[0;34m\u001b[0m\u001b[0m\n\u001b[1;32m   1065\u001b[0m         \u001b[0;32mreturn\u001b[0m \u001b[0mresult\u001b[0m\u001b[0;34m\u001b[0m\u001b[0;34m\u001b[0m\u001b[0m\n",
            "\u001b[0;32m/usr/local/lib/python3.6/dist-packages/pandas/core/algorithms.py\u001b[0m in \u001b[0;36m<listcomp>\u001b[0;34m(.0)\u001b[0m\n\u001b[1;32m   1061\u001b[0m     \u001b[0;32melse\u001b[0m\u001b[0;34m:\u001b[0m\u001b[0;34m\u001b[0m\u001b[0;34m\u001b[0m\u001b[0m\n\u001b[1;32m   1062\u001b[0m         \u001b[0mq\u001b[0m \u001b[0;34m=\u001b[0m \u001b[0mnp\u001b[0m\u001b[0;34m.\u001b[0m\u001b[0masarray\u001b[0m\u001b[0;34m(\u001b[0m\u001b[0mq\u001b[0m\u001b[0;34m,\u001b[0m \u001b[0mnp\u001b[0m\u001b[0;34m.\u001b[0m\u001b[0mfloat64\u001b[0m\u001b[0;34m)\u001b[0m\u001b[0;34m\u001b[0m\u001b[0;34m\u001b[0m\u001b[0m\n\u001b[0;32m-> 1063\u001b[0;31m         \u001b[0mresult\u001b[0m \u001b[0;34m=\u001b[0m \u001b[0;34m[\u001b[0m\u001b[0m_get_score\u001b[0m\u001b[0;34m(\u001b[0m\u001b[0mx\u001b[0m\u001b[0;34m)\u001b[0m \u001b[0;32mfor\u001b[0m \u001b[0mx\u001b[0m \u001b[0;32min\u001b[0m \u001b[0mq\u001b[0m\u001b[0;34m]\u001b[0m\u001b[0;34m\u001b[0m\u001b[0;34m\u001b[0m\u001b[0m\n\u001b[0m\u001b[1;32m   1064\u001b[0m         \u001b[0mresult\u001b[0m \u001b[0;34m=\u001b[0m \u001b[0mnp\u001b[0m\u001b[0;34m.\u001b[0m\u001b[0marray\u001b[0m\u001b[0;34m(\u001b[0m\u001b[0mresult\u001b[0m\u001b[0;34m,\u001b[0m \u001b[0mdtype\u001b[0m\u001b[0;34m=\u001b[0m\u001b[0mnp\u001b[0m\u001b[0;34m.\u001b[0m\u001b[0mfloat64\u001b[0m\u001b[0;34m)\u001b[0m\u001b[0;34m\u001b[0m\u001b[0;34m\u001b[0m\u001b[0m\n\u001b[1;32m   1065\u001b[0m         \u001b[0;32mreturn\u001b[0m \u001b[0mresult\u001b[0m\u001b[0;34m\u001b[0m\u001b[0;34m\u001b[0m\u001b[0m\n",
            "\u001b[0;32m/usr/local/lib/python3.6/dist-packages/pandas/core/algorithms.py\u001b[0m in \u001b[0;36m_get_score\u001b[0;34m(at)\u001b[0m\n\u001b[1;32m   1044\u001b[0m         \u001b[0;32melse\u001b[0m\u001b[0;34m:\u001b[0m\u001b[0;34m\u001b[0m\u001b[0;34m\u001b[0m\u001b[0m\n\u001b[1;32m   1045\u001b[0m             \u001b[0;32mif\u001b[0m \u001b[0minterpolation_method\u001b[0m \u001b[0;34m==\u001b[0m \u001b[0;34m\"fraction\"\u001b[0m\u001b[0;34m:\u001b[0m\u001b[0;34m\u001b[0m\u001b[0;34m\u001b[0m\u001b[0m\n\u001b[0;32m-> 1046\u001b[0;31m                 \u001b[0mscore\u001b[0m \u001b[0;34m=\u001b[0m \u001b[0m_interpolate\u001b[0m\u001b[0;34m(\u001b[0m\u001b[0mvalues\u001b[0m\u001b[0;34m[\u001b[0m\u001b[0mint\u001b[0m\u001b[0;34m(\u001b[0m\u001b[0midx\u001b[0m\u001b[0;34m)\u001b[0m\u001b[0;34m]\u001b[0m\u001b[0;34m,\u001b[0m \u001b[0mvalues\u001b[0m\u001b[0;34m[\u001b[0m\u001b[0mint\u001b[0m\u001b[0;34m(\u001b[0m\u001b[0midx\u001b[0m\u001b[0;34m)\u001b[0m \u001b[0;34m+\u001b[0m \u001b[0;36m1\u001b[0m\u001b[0;34m]\u001b[0m\u001b[0;34m,\u001b[0m \u001b[0midx\u001b[0m \u001b[0;34m%\u001b[0m \u001b[0;36m1\u001b[0m\u001b[0;34m)\u001b[0m\u001b[0;34m\u001b[0m\u001b[0;34m\u001b[0m\u001b[0m\n\u001b[0m\u001b[1;32m   1047\u001b[0m             \u001b[0;32melif\u001b[0m \u001b[0minterpolation_method\u001b[0m \u001b[0;34m==\u001b[0m \u001b[0;34m\"lower\"\u001b[0m\u001b[0;34m:\u001b[0m\u001b[0;34m\u001b[0m\u001b[0;34m\u001b[0m\u001b[0m\n\u001b[1;32m   1048\u001b[0m                 \u001b[0mscore\u001b[0m \u001b[0;34m=\u001b[0m \u001b[0mvalues\u001b[0m\u001b[0;34m[\u001b[0m\u001b[0mnp\u001b[0m\u001b[0;34m.\u001b[0m\u001b[0mfloor\u001b[0m\u001b[0;34m(\u001b[0m\u001b[0midx\u001b[0m\u001b[0;34m)\u001b[0m\u001b[0;34m]\u001b[0m\u001b[0;34m\u001b[0m\u001b[0;34m\u001b[0m\u001b[0m\n",
            "\u001b[0;32m/usr/local/lib/python3.6/dist-packages/pandas/core/algorithms.py\u001b[0m in \u001b[0;36m_interpolate\u001b[0;34m(a, b, fraction)\u001b[0m\n\u001b[1;32m   1033\u001b[0m         \u001b[0;34m'fraction'\u001b[0m \u001b[0mmust\u001b[0m \u001b[0mbe\u001b[0m \u001b[0mbetween\u001b[0m \u001b[0;36m0\u001b[0m \u001b[0;32mand\u001b[0m \u001b[0;36m1.\u001b[0m\u001b[0;34m\u001b[0m\u001b[0;34m\u001b[0m\u001b[0m\n\u001b[1;32m   1034\u001b[0m         \"\"\"\n\u001b[0;32m-> 1035\u001b[0;31m         \u001b[0;32mreturn\u001b[0m \u001b[0ma\u001b[0m \u001b[0;34m+\u001b[0m \u001b[0;34m(\u001b[0m\u001b[0mb\u001b[0m \u001b[0;34m-\u001b[0m \u001b[0ma\u001b[0m\u001b[0;34m)\u001b[0m \u001b[0;34m*\u001b[0m \u001b[0mfraction\u001b[0m\u001b[0;34m\u001b[0m\u001b[0;34m\u001b[0m\u001b[0m\n\u001b[0m\u001b[1;32m   1036\u001b[0m \u001b[0;34m\u001b[0m\u001b[0m\n\u001b[1;32m   1037\u001b[0m     \u001b[0;32mdef\u001b[0m \u001b[0m_get_score\u001b[0m\u001b[0;34m(\u001b[0m\u001b[0mat\u001b[0m\u001b[0;34m)\u001b[0m\u001b[0;34m:\u001b[0m\u001b[0;34m\u001b[0m\u001b[0;34m\u001b[0m\u001b[0m\n",
            "\u001b[0;31mTypeError\u001b[0m: unsupported operand type(s) for -: 'pandas._libs.interval.Interval' and 'pandas._libs.interval.Interval'"
          ]
        }
      ]
    },
    {
      "cell_type": "markdown",
      "metadata": {
        "id": "rft7qhn_SycV",
        "colab_type": "text"
      },
      "source": [
        "### Creating subsets of the data on the basis of cycle variable"
      ]
    },
    {
      "cell_type": "code",
      "metadata": {
        "id": "Hsi1vY2VwWCR",
        "colab_type": "code",
        "outputId": "3f703cbe-3144-42c8-c65d-f585c2cd8b04",
        "colab": {
          "base_uri": "https://localhost:8080/",
          "height": 307
        }
      },
      "source": [
        "sns.countplot(filtered_data['cycle'])"
      ],
      "execution_count": 0,
      "outputs": [
        {
          "output_type": "execute_result",
          "data": {
            "text/plain": [
              "<matplotlib.axes._subplots.AxesSubplot at 0x7f7557fb4b00>"
            ]
          },
          "metadata": {
            "tags": []
          },
          "execution_count": 9
        },
        {
          "output_type": "display_data",
          "data": {
            "image/png": "[encoded data removed]",
            "text/plain": [
              "<Figure size 432x288 with 1 Axes>"
            ]
          },
          "metadata": {
            "tags": []
          }
        }
      ]
    },
    {
      "cell_type": "code",
      "metadata": {
        "id": "ZUO0uxUHwWCp",
        "colab_type": "code",
        "outputId": "4386fa2a-ce4e-4310-f384-6bfc9e39ce7f",
        "colab": {
          "base_uri": "https://localhost:8080/",
          "height": 235
        }
      },
      "source": [
        "bat_storage_data = filtered_data[bat_data['cycle'] == 'storage']\n",
        "bat_charge_data = filtered_data[bat_data['cycle'] == 'charge']\n",
        "bat_drive_data = filtered_data[bat_data['cycle'] == 'drive']\n",
        "print(\"storage data dimensions are \", bat_storage_data.shape)\n",
        "print(\"charge data dimensions are \", bat_charge_data.shape)\n",
        "print(\"drive data dimensions are \", bat_drive_data.shape)"
      ],
      "execution_count": 0,
      "outputs": [
        {
          "output_type": "error",
          "ename": "NameError",
          "evalue": "ignored",
          "traceback": [
            "\u001b[0;31m---------------------------------------------------------------------------\u001b[0m",
            "\u001b[0;31mNameError\u001b[0m                                 Traceback (most recent call last)",
            "\u001b[0;32m<ipython-input-1-4de37fb50ca4>\u001b[0m in \u001b[0;36m<module>\u001b[0;34m()\u001b[0m\n\u001b[0;32m----> 1\u001b[0;31m \u001b[0mbat_storage_data\u001b[0m \u001b[0;34m=\u001b[0m \u001b[0mfiltered_data\u001b[0m\u001b[0;34m[\u001b[0m\u001b[0mbat_data\u001b[0m\u001b[0;34m[\u001b[0m\u001b[0;34m'cycle'\u001b[0m\u001b[0;34m]\u001b[0m \u001b[0;34m==\u001b[0m \u001b[0;34m'storage'\u001b[0m\u001b[0;34m]\u001b[0m\u001b[0;34m\u001b[0m\u001b[0;34m\u001b[0m\u001b[0m\n\u001b[0m\u001b[1;32m      2\u001b[0m \u001b[0mbat_charge_data\u001b[0m \u001b[0;34m=\u001b[0m \u001b[0mfiltered_data\u001b[0m\u001b[0;34m[\u001b[0m\u001b[0mbat_data\u001b[0m\u001b[0;34m[\u001b[0m\u001b[0;34m'cycle'\u001b[0m\u001b[0;34m]\u001b[0m \u001b[0;34m==\u001b[0m \u001b[0;34m'charge'\u001b[0m\u001b[0;34m]\u001b[0m\u001b[0;34m\u001b[0m\u001b[0;34m\u001b[0m\u001b[0m\n\u001b[1;32m      3\u001b[0m \u001b[0mbat_drive_data\u001b[0m \u001b[0;34m=\u001b[0m \u001b[0mfiltered_data\u001b[0m\u001b[0;34m[\u001b[0m\u001b[0mbat_data\u001b[0m\u001b[0;34m[\u001b[0m\u001b[0;34m'cycle'\u001b[0m\u001b[0;34m]\u001b[0m \u001b[0;34m==\u001b[0m \u001b[0;34m'drive'\u001b[0m\u001b[0;34m]\u001b[0m\u001b[0;34m\u001b[0m\u001b[0;34m\u001b[0m\u001b[0m\n\u001b[1;32m      4\u001b[0m \u001b[0mprint\u001b[0m\u001b[0;34m(\u001b[0m\u001b[0;34m\"storage data dimensions are \"\u001b[0m\u001b[0;34m,\u001b[0m \u001b[0mbat_storage_data\u001b[0m\u001b[0;34m.\u001b[0m\u001b[0mshape\u001b[0m\u001b[0;34m)\u001b[0m\u001b[0;34m\u001b[0m\u001b[0;34m\u001b[0m\u001b[0m\n\u001b[1;32m      5\u001b[0m \u001b[0mprint\u001b[0m\u001b[0;34m(\u001b[0m\u001b[0;34m\"charge data dimensions are \"\u001b[0m\u001b[0;34m,\u001b[0m \u001b[0mbat_charge_data\u001b[0m\u001b[0;34m.\u001b[0m\u001b[0mshape\u001b[0m\u001b[0;34m)\u001b[0m\u001b[0;34m\u001b[0m\u001b[0;34m\u001b[0m\u001b[0m\n",
            "\u001b[0;31mNameError\u001b[0m: name 'filtered_data' is not defined"
          ]
        }
      ]
    },
    {
      "cell_type": "code",
      "metadata": {
        "id": "vi_-FlmhwWCV",
        "colab_type": "code",
        "colab": {}
      },
      "source": [
        ""
      ],
      "execution_count": 0,
      "outputs": []
    },
    {
      "cell_type": "code",
      "metadata": {
        "id": "dsMF1_GuwWCY",
        "colab_type": "code",
        "colab": {}
      },
      "source": [
        ""
      ],
      "execution_count": 0,
      "outputs": []
    },
    {
      "cell_type": "code",
      "metadata": {
        "id": "1J_ME6wFwWCb",
        "colab_type": "code",
        "colab": {}
      },
      "source": [
        ""
      ],
      "execution_count": 0,
      "outputs": []
    },
    {
      "cell_type": "code",
      "metadata": {
        "id": "l6Ike7U7wWDV",
        "colab_type": "code",
        "colab": {}
      },
      "source": [
        "import dill\n",
        "dill.dump_session('phase-II-ml.db')"
      ],
      "execution_count": 0,
      "outputs": []
    },
    {
      "cell_type": "code",
      "metadata": {
        "id": "6yimvkIjlAz6",
        "colab_type": "code",
        "colab": {}
      },
      "source": [
        ""
      ],
      "execution_count": 0,
      "outputs": []
    }
  ]
}
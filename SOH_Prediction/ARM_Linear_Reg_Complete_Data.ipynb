{
  "nbformat": 4,
  "nbformat_minor": 0,
  "metadata": {
    "kernelspec": {
      "display_name": "Python 3",
      "language": "python",
      "name": "python3"
    },
    "language_info": {
      "codemirror_mode": {
        "name": "ipython",
        "version": 3
      },
      "file_extension": ".py",
      "mimetype": "text/x-python",
      "name": "python",
      "nbconvert_exporter": "python",
      "pygments_lexer": "ipython3",
      "version": "3.7.6"
    },
    "colab": {
      "name": "ARM_Linear_Reg_Complete_Data.ipynb",
      "provenance": [],
      "include_colab_link": true
    }
  },
  "cells": [
    {
      "cell_type": "markdown",
      "metadata": {
        "id": "view-in-github",
        "colab_type": "text"
      },
      "source": [
        "<a href=\"https://colab.research.google.com/github/musman2012/ml-data_science/blob/master/ARM_Linear_Reg_Complete_Data.ipynb\" target=\"_parent\"><img src=\"https://colab.research.google.com/assets/colab-badge.svg\" alt=\"Open In Colab\"/></a>"
      ]
    },
    {
      "cell_type": "markdown",
      "metadata": {
        "id": "H84xsU8rKWX5",
        "colab_type": "text"
      },
      "source": [
        "### Statistical Analysis of Battery Data"
      ]
    },
    {
      "cell_type": "code",
      "metadata": {
        "collapsed": true,
        "id": "FOeNVzDsKWX8",
        "colab_type": "code",
        "outputId": "cc7ca423-b289-4f32-c59c-890c1350f26a",
        "colab": {}
      },
      "source": [
        "import platform\n",
        "import dill\n",
        "dill.load_session('notebook_env.db')\n",
        "platform.architecture()"
      ],
      "execution_count": 0,
      "outputs": [
        {
          "output_type": "execute_result",
          "data": {
            "text/plain": [
              "('64bit', 'WindowsPE')"
            ]
          },
          "metadata": {
            "tags": []
          },
          "execution_count": 1
        }
      ]
    },
    {
      "cell_type": "code",
      "metadata": {
        "id": "BW_Ub4qhhzgd",
        "colab_type": "code",
        "colab": {}
      },
      "source": [
        "from google.colab import drive\n",
        "drive.mount('/content/drive')"
      ],
      "execution_count": 0,
      "outputs": []
    },
    {
      "cell_type": "code",
      "metadata": {
        "id": "e6vY0UXdKWYB",
        "colab_type": "code",
        "colab": {}
      },
      "source": [
        "#!pip install tensorflow==2.0.0-alpha0 "
      ],
      "execution_count": 0,
      "outputs": []
    },
    {
      "cell_type": "code",
      "metadata": {
        "id": "M1MevvD9KWYF",
        "colab_type": "code",
        "outputId": "a2e2c004-ae72-4e44-b934-7d3e167d52d3",
        "colab": {
          "base_uri": "https://localhost:8080/",
          "height": 35
        }
      },
      "source": [
        "'''\n",
        "authored by Muhammad Usman (musman14@student.bradford.ac.uk)\n",
        "!pip install pandas\n",
        "!pip install numpy\n",
        "!pip install matplotlib\n",
        "!pip install seaborn\n",
        "'''\n",
        "\n",
        "import pandas as pd\n",
        "import numpy as np\n",
        "import matplotlib.pyplot as plt\n",
        "%matplotlib inline\n",
        "import seaborn as sns\n",
        "\n",
        "FILE_PATH = \"/content/drive/My Drive/Colab Notebooks/batteries_processed.csv\"\n",
        "bat_data = pd.read_csv(FILE_PATH, error_bad_lines = False)    # reading the data from csv file"
      ],
      "execution_count": 4,
      "outputs": [
        {
          "output_type": "stream",
          "text": [
            "ERROR! Session/line number was not unique in database. History logging moved to new session 59\n"
          ],
          "name": "stdout"
        }
      ]
    },
    {
      "cell_type": "code",
      "metadata": {
        "id": "DMkYj4W5KWYI",
        "colab_type": "code",
        "outputId": "db4ba904-bf6d-4e7d-925d-aa40c3cdc3d2",
        "colab": {
          "base_uri": "https://localhost:8080/",
          "height": 35
        }
      },
      "source": [
        "data_columns = bat_data.columns\n",
        "bat_data.shape"
      ],
      "execution_count": 5,
      "outputs": [
        {
          "output_type": "execute_result",
          "data": {
            "text/plain": [
              "(5000000, 51)"
            ]
          },
          "metadata": {
            "tags": []
          },
          "execution_count": 5
        }
      ]
    },
    {
      "cell_type": "code",
      "metadata": {
        "id": "7K_SavqvKWYM",
        "colab_type": "code",
        "colab": {
          "base_uri": "https://localhost:8080/",
          "height": 222
        },
        "outputId": "5b5f73e9-e46a-4fe5-81a3-3e75fe7261a3"
      },
      "source": [
        "input_data = bat_data.copy()\n",
        "columns_to_drop = ['id', 'vin', 'vin_prefix', 'record_id','recorded_time', 'actual_time', 'arrival_time', 'powermode', 'mheader_vin', 'mheader_time', 'mheader_type', 'message','cat4', 'cat6', 'cat7', 'inlet_coolant_temp','cooling_energy_used', 'max_soh_cell', 'power_soh', 'min_soh', 'max_soh', 'soh','min_soh_cell_id','imbalance_percent', 'parkingdata_hvbattavgsocoatevent', 'parkingdata_hvbattavtempatevent']\n",
        "input_data = input_data.drop(columns=columns_to_drop)\n",
        "input_data.head()\n",
        "\n",
        "## keep vin_prefix for input variables\n",
        "## min_voltage is highly correlated with traction voltage and max_voltage\n",
        "## "
      ],
      "execution_count": 22,
      "outputs": [
        {
          "output_type": "execute_result",
          "data": {
            "text/html": [
              "<div>\n",
              "<style scoped>\n",
              "    .dataframe tbody tr th:only-of-type {\n",
              "        vertical-align: middle;\n",
              "    }\n",
              "\n",
              "    .dataframe tbody tr th {\n",
              "        vertical-align: top;\n",
              "    }\n",
              "\n",
              "    .dataframe thead th {\n",
              "        text-align: right;\n",
              "    }\n",
              "</style>\n",
              "<table border=\"1\" class=\"dataframe\">\n",
              "  <thead>\n",
              "    <tr style=\"text-align: right;\">\n",
              "      <th></th>\n",
              "      <th>odometer</th>\n",
              "      <th>ambient_temp</th>\n",
              "      <th>vehicle_speed</th>\n",
              "      <th>balancing_trigger_cell</th>\n",
              "      <th>balancing_status</th>\n",
              "      <th>min_voltage</th>\n",
              "      <th>min_temp</th>\n",
              "      <th>traction_current</th>\n",
              "      <th>max_voltage</th>\n",
              "      <th>imbalance</th>\n",
              "      <th>traction_voltage</th>\n",
              "      <th>min_temp_cell</th>\n",
              "      <th>min_voltage_cell</th>\n",
              "      <th>max_voltage_cell</th>\n",
              "      <th>max_temp</th>\n",
              "      <th>max_temp_cell</th>\n",
              "      <th>fuse_temp</th>\n",
              "      <th>emodule_temp</th>\n",
              "      <th>thermal_manager_mode</th>\n",
              "      <th>outlet_coolant_temp</th>\n",
              "      <th>fast_charge_count</th>\n",
              "      <th>cycle</th>\n",
              "      <th>num_cycle</th>\n",
              "      <th>fast_charge</th>\n",
              "      <th>trip_distance</th>\n",
              "    </tr>\n",
              "  </thead>\n",
              "  <tbody>\n",
              "    <tr>\n",
              "      <th>0</th>\n",
              "      <td>10619</td>\n",
              "      <td>6.5</td>\n",
              "      <td>0.0</td>\n",
              "      <td>22</td>\n",
              "      <td>noBalancing</td>\n",
              "      <td>4.107</td>\n",
              "      <td>12</td>\n",
              "      <td>0.675</td>\n",
              "      <td>4.153</td>\n",
              "      <td>0.046</td>\n",
              "      <td>445</td>\n",
              "      <td>15</td>\n",
              "      <td>22</td>\n",
              "      <td>96</td>\n",
              "      <td>14</td>\n",
              "      <td>1</td>\n",
              "      <td>870</td>\n",
              "      <td>135</td>\n",
              "      <td>activeHeating</td>\n",
              "      <td>195</td>\n",
              "      <td>0</td>\n",
              "      <td>storage</td>\n",
              "      <td>1</td>\n",
              "      <td>False</td>\n",
              "      <td>0</td>\n",
              "    </tr>\n",
              "    <tr>\n",
              "      <th>1</th>\n",
              "      <td>9531</td>\n",
              "      <td>4.0</td>\n",
              "      <td>0.0</td>\n",
              "      <td>22</td>\n",
              "      <td>noBalancing</td>\n",
              "      <td>3.983</td>\n",
              "      <td>6</td>\n",
              "      <td>7.375</td>\n",
              "      <td>4.008</td>\n",
              "      <td>0.025</td>\n",
              "      <td>432</td>\n",
              "      <td>16</td>\n",
              "      <td>36</td>\n",
              "      <td>21</td>\n",
              "      <td>7</td>\n",
              "      <td>1</td>\n",
              "      <td>870</td>\n",
              "      <td>90</td>\n",
              "      <td>idle</td>\n",
              "      <td>55</td>\n",
              "      <td>0</td>\n",
              "      <td>storage</td>\n",
              "      <td>1</td>\n",
              "      <td>False</td>\n",
              "      <td>-1088</td>\n",
              "    </tr>\n",
              "    <tr>\n",
              "      <th>2</th>\n",
              "      <td>9531</td>\n",
              "      <td>4.0</td>\n",
              "      <td>0.0</td>\n",
              "      <td>22</td>\n",
              "      <td>noBalancing</td>\n",
              "      <td>3.989</td>\n",
              "      <td>6</td>\n",
              "      <td>7.600</td>\n",
              "      <td>4.023</td>\n",
              "      <td>0.034</td>\n",
              "      <td>431</td>\n",
              "      <td>16</td>\n",
              "      <td>36</td>\n",
              "      <td>76</td>\n",
              "      <td>7</td>\n",
              "      <td>1</td>\n",
              "      <td>870</td>\n",
              "      <td>90</td>\n",
              "      <td>idle</td>\n",
              "      <td>55</td>\n",
              "      <td>0</td>\n",
              "      <td>storage</td>\n",
              "      <td>1</td>\n",
              "      <td>False</td>\n",
              "      <td>0</td>\n",
              "    </tr>\n",
              "    <tr>\n",
              "      <th>3</th>\n",
              "      <td>9531</td>\n",
              "      <td>4.0</td>\n",
              "      <td>0.0</td>\n",
              "      <td>22</td>\n",
              "      <td>noBalancing</td>\n",
              "      <td>3.984</td>\n",
              "      <td>6</td>\n",
              "      <td>6.850</td>\n",
              "      <td>4.020</td>\n",
              "      <td>0.036</td>\n",
              "      <td>431</td>\n",
              "      <td>16</td>\n",
              "      <td>36</td>\n",
              "      <td>79</td>\n",
              "      <td>7</td>\n",
              "      <td>1</td>\n",
              "      <td>870</td>\n",
              "      <td>90</td>\n",
              "      <td>idle</td>\n",
              "      <td>55</td>\n",
              "      <td>0</td>\n",
              "      <td>storage</td>\n",
              "      <td>1</td>\n",
              "      <td>False</td>\n",
              "      <td>0</td>\n",
              "    </tr>\n",
              "    <tr>\n",
              "      <th>4</th>\n",
              "      <td>9531</td>\n",
              "      <td>4.0</td>\n",
              "      <td>0.0</td>\n",
              "      <td>22</td>\n",
              "      <td>noBalancing</td>\n",
              "      <td>3.980</td>\n",
              "      <td>6</td>\n",
              "      <td>7.000</td>\n",
              "      <td>4.015</td>\n",
              "      <td>0.035</td>\n",
              "      <td>431</td>\n",
              "      <td>16</td>\n",
              "      <td>36</td>\n",
              "      <td>85</td>\n",
              "      <td>7</td>\n",
              "      <td>1</td>\n",
              "      <td>870</td>\n",
              "      <td>90</td>\n",
              "      <td>idle</td>\n",
              "      <td>55</td>\n",
              "      <td>0</td>\n",
              "      <td>storage</td>\n",
              "      <td>1</td>\n",
              "      <td>False</td>\n",
              "      <td>0</td>\n",
              "    </tr>\n",
              "  </tbody>\n",
              "</table>\n",
              "</div>"
            ],
            "text/plain": [
              "   odometer  ambient_temp  vehicle_speed  ...  num_cycle fast_charge  trip_distance\n",
              "0     10619           6.5            0.0  ...          1       False              0\n",
              "1      9531           4.0            0.0  ...          1       False          -1088\n",
              "2      9531           4.0            0.0  ...          1       False              0\n",
              "3      9531           4.0            0.0  ...          1       False              0\n",
              "4      9531           4.0            0.0  ...          1       False              0\n",
              "\n",
              "[5 rows x 25 columns]"
            ]
          },
          "metadata": {
            "tags": []
          },
          "execution_count": 22
        }
      ]
    },
    {
      "cell_type": "code",
      "metadata": {
        "id": "N1rv5wmEKWYP",
        "colab_type": "code",
        "colab": {}
      },
      "source": [
        "output_data = bat_data.soh"
      ],
      "execution_count": 0,
      "outputs": []
    },
    {
      "cell_type": "code",
      "metadata": {
        "id": "K8pCEEL9KWYX",
        "colab_type": "code",
        "colab": {}
      },
      "source": [
        "#!pip install sklearn\n",
        "from sklearn.model_selection import train_test_split \n",
        "from sklearn.linear_model import LinearRegression\n",
        "from sklearn import metrics\n"
      ],
      "execution_count": 0,
      "outputs": []
    },
    {
      "cell_type": "code",
      "metadata": {
        "id": "-w0_BchlKWYa",
        "colab_type": "code",
        "colab": {}
      },
      "source": [
        "print(input_data.info())"
      ],
      "execution_count": 0,
      "outputs": []
    },
    {
      "cell_type": "code",
      "metadata": {
        "id": "DBuSHgBCKWYd",
        "colab_type": "code",
        "colab": {}
      },
      "source": [
        "input_data.describe()"
      ],
      "execution_count": 0,
      "outputs": []
    },
    {
      "cell_type": "markdown",
      "metadata": {
        "id": "Vp69lJbmyWoj",
        "colab_type": "text"
      },
      "source": [
        "### Replacing String Categorical Variables to Numeric Categorical Features"
      ]
    },
    {
      "cell_type": "code",
      "metadata": {
        "id": "BBibH9NZKWYk",
        "colab_type": "code",
        "outputId": "9f924023-15a7-41e8-f83d-a042fffdfeac",
        "colab": {
          "base_uri": "https://localhost:8080/",
          "height": 399
        }
      },
      "source": [
        "object_attr = ['balancing_status', 'thermal_manager_mode', 'cycle', 'fast_charge']\n",
        "for attr in object_attr:\n",
        "    print(attr)\n",
        "    print(bat_data[attr].value_counts())\n",
        "    "
      ],
      "execution_count": 24,
      "outputs": [
        {
          "output_type": "stream",
          "text": [
            "balancing_status\n",
            "noBalancing         3572630\n",
            "passiveBalancing    1426264\n",
            "initialValue           1106\n",
            "Name: balancing_status, dtype: int64\n",
            "thermal_manager_mode\n",
            "idle                2647812\n",
            "activeHeating       2340570\n",
            "passingCooling         5702\n",
            "thermalBalancing       4862\n",
            "initialValue            558\n",
            "activeCooling           496\n",
            "Name: thermal_manager_mode, dtype: int64\n",
            "cycle\n",
            "charge     3595456\n",
            "drive       937049\n",
            "storage     467495\n",
            "Name: cycle, dtype: int64\n",
            "fast_charge\n",
            "False    4979009\n",
            "True       20991\n",
            "Name: fast_charge, dtype: int64\n"
          ],
          "name": "stdout"
        }
      ]
    },
    {
      "cell_type": "code",
      "metadata": {
        "id": "V30pbypjKWYo",
        "colab_type": "code",
        "colab": {}
      },
      "source": [
        "balancing_kvp = {'noBalancing' : 1, 'passiveBalancing' : 2, 'initialValue' : 3}\n",
        "thermal_kvp = {'idle' : 1, 'activeHeating' : 2, 'passingCooling' : 3, 'thermalBalancing' : 4, 'initialValue' : 5, 'activeCooling' : 6}\n",
        "cycle_kvp = {'charge' : 1, 'drive' : 2, 'storage' : 3}\n",
        "fast_charge_kvp = {False : 0, True : 1}"
      ],
      "execution_count": 0,
      "outputs": []
    },
    {
      "cell_type": "code",
      "metadata": {
        "id": "qVfl7LEoKWYs",
        "colab_type": "code",
        "colab": {}
      },
      "source": [
        "input_data[object_attr[0]] = input_data[object_attr[0]].replace(balancing_kvp)\n",
        "input_data[object_attr[1]] = input_data[object_attr[1]].replace(thermal_kvp)\n",
        "input_data[object_attr[2]] = input_data[object_attr[2]].replace(cycle_kvp)\n",
        "input_data[object_attr[3]] = input_data[object_attr[3]].replace(fast_charge_kvp)\n",
        "#fast_charge_kvp = {False : -1, True : 1}"
      ],
      "execution_count": 0,
      "outputs": []
    },
    {
      "cell_type": "code",
      "metadata": {
        "id": "QzLm8hEHKWYv",
        "colab_type": "code",
        "outputId": "8377c18b-ff2d-4570-d9a5-0697daaaa2cc",
        "colab": {
          "base_uri": "https://localhost:8080/",
          "height": 222
        }
      },
      "source": [
        "#input_data = input_data.drop(columns=['recorded_time'])\n",
        "input_data.head()"
      ],
      "execution_count": 27,
      "outputs": [
        {
          "output_type": "execute_result",
          "data": {
            "text/html": [
              "<div>\n",
              "<style scoped>\n",
              "    .dataframe tbody tr th:only-of-type {\n",
              "        vertical-align: middle;\n",
              "    }\n",
              "\n",
              "    .dataframe tbody tr th {\n",
              "        vertical-align: top;\n",
              "    }\n",
              "\n",
              "    .dataframe thead th {\n",
              "        text-align: right;\n",
              "    }\n",
              "</style>\n",
              "<table border=\"1\" class=\"dataframe\">\n",
              "  <thead>\n",
              "    <tr style=\"text-align: right;\">\n",
              "      <th></th>\n",
              "      <th>odometer</th>\n",
              "      <th>ambient_temp</th>\n",
              "      <th>vehicle_speed</th>\n",
              "      <th>balancing_trigger_cell</th>\n",
              "      <th>balancing_status</th>\n",
              "      <th>min_voltage</th>\n",
              "      <th>min_temp</th>\n",
              "      <th>traction_current</th>\n",
              "      <th>max_voltage</th>\n",
              "      <th>imbalance</th>\n",
              "      <th>traction_voltage</th>\n",
              "      <th>min_temp_cell</th>\n",
              "      <th>min_voltage_cell</th>\n",
              "      <th>max_voltage_cell</th>\n",
              "      <th>max_temp</th>\n",
              "      <th>max_temp_cell</th>\n",
              "      <th>fuse_temp</th>\n",
              "      <th>emodule_temp</th>\n",
              "      <th>thermal_manager_mode</th>\n",
              "      <th>outlet_coolant_temp</th>\n",
              "      <th>fast_charge_count</th>\n",
              "      <th>cycle</th>\n",
              "      <th>num_cycle</th>\n",
              "      <th>fast_charge</th>\n",
              "      <th>trip_distance</th>\n",
              "    </tr>\n",
              "  </thead>\n",
              "  <tbody>\n",
              "    <tr>\n",
              "      <th>0</th>\n",
              "      <td>10619</td>\n",
              "      <td>6.5</td>\n",
              "      <td>0.0</td>\n",
              "      <td>22</td>\n",
              "      <td>1</td>\n",
              "      <td>4.107</td>\n",
              "      <td>12</td>\n",
              "      <td>0.675</td>\n",
              "      <td>4.153</td>\n",
              "      <td>0.046</td>\n",
              "      <td>445</td>\n",
              "      <td>15</td>\n",
              "      <td>22</td>\n",
              "      <td>96</td>\n",
              "      <td>14</td>\n",
              "      <td>1</td>\n",
              "      <td>870</td>\n",
              "      <td>135</td>\n",
              "      <td>2</td>\n",
              "      <td>195</td>\n",
              "      <td>0</td>\n",
              "      <td>3</td>\n",
              "      <td>1</td>\n",
              "      <td>0</td>\n",
              "      <td>0</td>\n",
              "    </tr>\n",
              "    <tr>\n",
              "      <th>1</th>\n",
              "      <td>9531</td>\n",
              "      <td>4.0</td>\n",
              "      <td>0.0</td>\n",
              "      <td>22</td>\n",
              "      <td>1</td>\n",
              "      <td>3.983</td>\n",
              "      <td>6</td>\n",
              "      <td>7.375</td>\n",
              "      <td>4.008</td>\n",
              "      <td>0.025</td>\n",
              "      <td>432</td>\n",
              "      <td>16</td>\n",
              "      <td>36</td>\n",
              "      <td>21</td>\n",
              "      <td>7</td>\n",
              "      <td>1</td>\n",
              "      <td>870</td>\n",
              "      <td>90</td>\n",
              "      <td>1</td>\n",
              "      <td>55</td>\n",
              "      <td>0</td>\n",
              "      <td>3</td>\n",
              "      <td>1</td>\n",
              "      <td>0</td>\n",
              "      <td>-1088</td>\n",
              "    </tr>\n",
              "    <tr>\n",
              "      <th>2</th>\n",
              "      <td>9531</td>\n",
              "      <td>4.0</td>\n",
              "      <td>0.0</td>\n",
              "      <td>22</td>\n",
              "      <td>1</td>\n",
              "      <td>3.989</td>\n",
              "      <td>6</td>\n",
              "      <td>7.600</td>\n",
              "      <td>4.023</td>\n",
              "      <td>0.034</td>\n",
              "      <td>431</td>\n",
              "      <td>16</td>\n",
              "      <td>36</td>\n",
              "      <td>76</td>\n",
              "      <td>7</td>\n",
              "      <td>1</td>\n",
              "      <td>870</td>\n",
              "      <td>90</td>\n",
              "      <td>1</td>\n",
              "      <td>55</td>\n",
              "      <td>0</td>\n",
              "      <td>3</td>\n",
              "      <td>1</td>\n",
              "      <td>0</td>\n",
              "      <td>0</td>\n",
              "    </tr>\n",
              "    <tr>\n",
              "      <th>3</th>\n",
              "      <td>9531</td>\n",
              "      <td>4.0</td>\n",
              "      <td>0.0</td>\n",
              "      <td>22</td>\n",
              "      <td>1</td>\n",
              "      <td>3.984</td>\n",
              "      <td>6</td>\n",
              "      <td>6.850</td>\n",
              "      <td>4.020</td>\n",
              "      <td>0.036</td>\n",
              "      <td>431</td>\n",
              "      <td>16</td>\n",
              "      <td>36</td>\n",
              "      <td>79</td>\n",
              "      <td>7</td>\n",
              "      <td>1</td>\n",
              "      <td>870</td>\n",
              "      <td>90</td>\n",
              "      <td>1</td>\n",
              "      <td>55</td>\n",
              "      <td>0</td>\n",
              "      <td>3</td>\n",
              "      <td>1</td>\n",
              "      <td>0</td>\n",
              "      <td>0</td>\n",
              "    </tr>\n",
              "    <tr>\n",
              "      <th>4</th>\n",
              "      <td>9531</td>\n",
              "      <td>4.0</td>\n",
              "      <td>0.0</td>\n",
              "      <td>22</td>\n",
              "      <td>1</td>\n",
              "      <td>3.980</td>\n",
              "      <td>6</td>\n",
              "      <td>7.000</td>\n",
              "      <td>4.015</td>\n",
              "      <td>0.035</td>\n",
              "      <td>431</td>\n",
              "      <td>16</td>\n",
              "      <td>36</td>\n",
              "      <td>85</td>\n",
              "      <td>7</td>\n",
              "      <td>1</td>\n",
              "      <td>870</td>\n",
              "      <td>90</td>\n",
              "      <td>1</td>\n",
              "      <td>55</td>\n",
              "      <td>0</td>\n",
              "      <td>3</td>\n",
              "      <td>1</td>\n",
              "      <td>0</td>\n",
              "      <td>0</td>\n",
              "    </tr>\n",
              "  </tbody>\n",
              "</table>\n",
              "</div>"
            ],
            "text/plain": [
              "   odometer  ambient_temp  vehicle_speed  ...  num_cycle  fast_charge  trip_distance\n",
              "0     10619           6.5            0.0  ...          1            0              0\n",
              "1      9531           4.0            0.0  ...          1            0          -1088\n",
              "2      9531           4.0            0.0  ...          1            0              0\n",
              "3      9531           4.0            0.0  ...          1            0              0\n",
              "4      9531           4.0            0.0  ...          1            0              0\n",
              "\n",
              "[5 rows x 25 columns]"
            ]
          },
          "metadata": {
            "tags": []
          },
          "execution_count": 27
        }
      ]
    },
    {
      "cell_type": "code",
      "metadata": {
        "id": "CEJtJaF9KWY1",
        "colab_type": "code",
        "colab": {}
      },
      "source": [
        "input_data.replace([np.inf, -np.inf], np.nan)"
      ],
      "execution_count": 0,
      "outputs": []
    },
    {
      "cell_type": "code",
      "metadata": {
        "id": "DcuaP998KWY7",
        "colab_type": "code",
        "outputId": "ff8ee9d1-9f67-4b2c-abee-21de7b5e5405",
        "colab": {
          "base_uri": "https://localhost:8080/",
          "height": 35
        }
      },
      "source": [
        "input_data.isnull().sum().sum()\n",
        "#input_data['imbalance_percent'].value_counts()"
      ],
      "execution_count": 29,
      "outputs": [
        {
          "output_type": "execute_result",
          "data": {
            "text/plain": [
              "0"
            ]
          },
          "metadata": {
            "tags": []
          },
          "execution_count": 29
        }
      ]
    },
    {
      "cell_type": "markdown",
      "metadata": {
        "id": "0teoDG7lyi5t",
        "colab_type": "text"
      },
      "source": [
        "## Test/Train Split of 20/80"
      ]
    },
    {
      "cell_type": "code",
      "metadata": {
        "id": "QKClGj7mKWY-",
        "colab_type": "code",
        "colab": {}
      },
      "source": [
        "X_train, X_test, y_train, y_test = train_test_split(input_data, output_data, test_size=0.2, random_state=0)"
      ],
      "execution_count": 0,
      "outputs": []
    },
    {
      "cell_type": "markdown",
      "metadata": {
        "id": "6KIErKHuyo5L",
        "colab_type": "text"
      },
      "source": [
        "## Applying Decision Tree Regression"
      ]
    },
    {
      "cell_type": "code",
      "metadata": {
        "id": "CpEE9LTgKWZE",
        "colab_type": "code",
        "colab": {}
      },
      "source": [
        "from sklearn.tree import DecisionTreeRegressor\n",
        "\n",
        "reg_tree = DecisionTreeRegressor()"
      ],
      "execution_count": 0,
      "outputs": []
    },
    {
      "cell_type": "code",
      "metadata": {
        "id": "nszK5d-tKWZI",
        "colab_type": "code",
        "outputId": "0c4cc6a3-246a-43f5-ece8-9ea49974bfdd",
        "colab": {
          "base_uri": "https://localhost:8080/",
          "height": 55
        }
      },
      "source": [
        "reg_tree.fit(X_train, y_train)\n",
        "reg_tree_pred = reg_tree.predict(X_test)"
      ],
      "execution_count": 32,
      "outputs": [
        {
          "output_type": "execute_result",
          "data": {
            "text/plain": [
              "'\\nplt.figure(figsize=(10, 6))\\nplt.plot(X_test, f(X_test), \"b\")\\nplt.scatter(X_train, y_train, c=\"b\", s=20)\\nplt.plot(X_test, reg_tree_pred, \"g\", lw=2)\\nplt.xlim([-5, 5])\\nplt.title(\"Decision tree regressor, MSE = %.2f\" % (np.sum((y_test - reg_tree_pred) ** 2) / n_test))\\nplt.show()\\n'"
            ]
          },
          "metadata": {
            "tags": []
          },
          "execution_count": 32
        }
      ]
    },
    {
      "cell_type": "code",
      "metadata": {
        "id": "lnfEll1Hts9P",
        "colab_type": "code",
        "colab": {
          "base_uri": "https://localhost:8080/",
          "height": 35
        },
        "outputId": "6bf399c1-b945-4636-896d-b0f34a5d8a37"
      },
      "source": [
        "from sklearn.model_selection import cross_val_score\n",
        "\n",
        "score = reg_tree.score(X_test, y_test)\n",
        "print(score * 100)"
      ],
      "execution_count": 40,
      "outputs": [
        {
          "output_type": "stream",
          "text": [
            "95.30721088313385\n"
          ],
          "name": "stdout"
        }
      ]
    },
    {
      "cell_type": "code",
      "metadata": {
        "id": "Ni34Ex4gKWZN",
        "colab_type": "code",
        "colab": {}
      },
      "source": [
        "#regressor = LinearRegression()  \n",
        "#regressor.fit(X_train, y_train)"
      ],
      "execution_count": 0,
      "outputs": []
    },
    {
      "cell_type": "code",
      "metadata": {
        "id": "uo5RwMQOKWZQ",
        "colab_type": "code",
        "colab": {}
      },
      "source": [
        "#sns.countplot(bat_data['powermode'])"
      ],
      "execution_count": 0,
      "outputs": []
    },
    {
      "cell_type": "code",
      "metadata": {
        "id": "XgYigwEAKWZX",
        "colab_type": "code",
        "colab": {}
      },
      "source": [
        ""
      ],
      "execution_count": 0,
      "outputs": []
    }
  ]
}
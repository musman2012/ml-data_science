{
  "nbformat": 4,
  "nbformat_minor": 0,
  "metadata": {
    "kernelspec": {
      "name": "python3",
      "display_name": "Python 3"
    },
    "language_info": {
      "codemirror_mode": {
        "name": "ipython",
        "version": 3
      },
      "file_extension": ".py",
      "mimetype": "text/x-python",
      "name": "python",
      "nbconvert_exporter": "python",
      "pygments_lexer": "ipython3",
      "version": "3.7.6"
    },
    "colab": {
      "name": "Decision_Tree_Complete_Data.ipynb",
      "provenance": [],
      "collapsed_sections": [],
      "toc_visible": true,
      "include_colab_link": true
    },
    "accelerator": "GPU"
  },
  "cells": [
    {
      "cell_type": "markdown",
      "metadata": {
        "id": "view-in-github",
        "colab_type": "text"
      },
      "source": [
        "<a href=\"https://colab.research.google.com/github/musman2012/ml-data_science/blob/master/Decision_Tree_Complete_Data.ipynb\" target=\"_parent\"><img src=\"https://colab.research.google.com/assets/colab-badge.svg\" alt=\"Open In Colab\"/></a>"
      ]
    },
    {
      "cell_type": "markdown",
      "metadata": {
        "id": "ssX3Pg72x_mH",
        "colab_type": "text"
      },
      "source": [
        "## Applying Decision Tree Regression for Predicitng State of Health in Li-Ion Batteries\n",
        "Following are the list of activities being performed in this notebook:\n",
        "* Analysis of Complete Battery Data\n",
        "* Data Cleaning\n",
        "* Data Pre-processing for Prediction (Coverting String categorical features to Numeric)\n",
        "* Spliting the data into Test/Train Subbsets\n",
        "* Applying Decision Tree on the Data\n",
        "* Evaluating Decision Tree Results on the Test Data"
      ]
    },
    {
      "cell_type": "markdown",
      "metadata": {
        "id": "H84xsU8rKWX5",
        "colab_type": "text"
      },
      "source": [
        "### Statistical Analysis of Battery Data"
      ]
    },
    {
      "cell_type": "code",
      "metadata": {
        "id": "BW_Ub4qhhzgd",
        "colab_type": "code",
        "outputId": "545e3f0b-f8d5-4501-a038-9f7d917a64fc",
        "colab": {
          "base_uri": "https://localhost:8080/",
          "height": 124
        }
      },
      "source": [
        "from google.colab import drive\n",
        "drive.mount('/content/drive')"
      ],
      "execution_count": 1,
      "outputs": [
        {
          "output_type": "stream",
          "text": [
            "Go to this URL in a browser: https://accounts.google.com/o/oauth2/auth?client_id=947318989803-6bn6qk8qdgf4n4g3pfee6491hc0brc4i.apps.googleusercontent.com&redirect_uri=urn%3aietf%3awg%3aoauth%3a2.0%3aoob&response_type=code&scope=email%20https%3a%2f%2fwww.googleapis.com%2fauth%2fdocs.test%20https%3a%2f%2fwww.googleapis.com%2fauth%2fdrive%20https%3a%2f%2fwww.googleapis.com%2fauth%2fdrive.photos.readonly%20https%3a%2f%2fwww.googleapis.com%2fauth%2fpeopleapi.readonly\n",
            "\n",
            "Enter your authorization code:\n",
            "··········\n",
            "Mounted at /content/drive\n"
          ],
          "name": "stdout"
        }
      ]
    },
    {
      "cell_type": "code",
      "metadata": {
        "id": "6UgfHkhxf_ol",
        "colab_type": "code",
        "outputId": "5d0ea0b0-6d18-4718-fdcd-ba1377dd3e9d",
        "colab": {
          "base_uri": "https://localhost:8080/",
          "height": 87
        }
      },
      "source": [
        "import os\n",
        "os.chdir(\"/content/drive/My Drive/Colab Notebooks\")\n",
        "!ls"
      ],
      "execution_count": 4,
      "outputs": [
        {
          "output_type": "stream",
          "text": [
            "batteries_processed.csv\t\t   Phase-II-ML.ipynb\n",
            "Decision_Tree_Complete_Data.ipynb  SDA_CW_M_Usman_12036782.ipynb\n",
            "PCA_Sample_Creation.ipynb\t   sd_cw_env.db\n",
            "phase-II-ml.db\t\t\t   student-mat.csv\n"
          ],
          "name": "stdout"
        }
      ]
    },
    {
      "cell_type": "code",
      "metadata": {
        "id": "FOeNVzDsKWX8",
        "colab_type": "code",
        "colab": {}
      },
      "source": [
        "import platform\n",
        "import dill\n",
        "#dill.load_session('dec_tree_complete_data.db')\n",
        "#platform.architecture()"
      ],
      "execution_count": 0,
      "outputs": []
    },
    {
      "cell_type": "code",
      "metadata": {
        "id": "e6vY0UXdKWYB",
        "colab_type": "code",
        "colab": {}
      },
      "source": [
        "#!pip install tensorflow==2.0.0-alpha0 "
      ],
      "execution_count": 0,
      "outputs": []
    },
    {
      "cell_type": "code",
      "metadata": {
        "id": "M1MevvD9KWYF",
        "colab_type": "code",
        "outputId": "2e3774e0-367b-4673-acfa-c5ffb5aedf87",
        "colab": {
          "base_uri": "https://localhost:8080/",
          "height": 72
        }
      },
      "source": [
        "'''\n",
        "authored by Muhammad Usman (musman14@student.bradford.ac.uk)\n",
        "!pip install pandas\n",
        "!pip install numpy\n",
        "!pip install matplotlib\n",
        "!pip install seaborn\n",
        "'''\n",
        "\n",
        "import pandas as pd\n",
        "import numpy as np\n",
        "import matplotlib.pyplot as plt\n",
        "%matplotlib inline\n",
        "import seaborn as sns\n",
        "\n",
        "FILE_PATH = \"batteries_processed.csv\"\n",
        "bat_data = pd.read_csv(FILE_PATH, error_bad_lines = False)    # reading the data from csv file"
      ],
      "execution_count": 6,
      "outputs": [
        {
          "output_type": "stream",
          "text": [
            "/usr/local/lib/python3.6/dist-packages/statsmodels/tools/_testing.py:19: FutureWarning: pandas.util.testing is deprecated. Use the functions in the public API at pandas.testing instead.\n",
            "  import pandas.util.testing as tm\n"
          ],
          "name": "stderr"
        }
      ]
    },
    {
      "cell_type": "code",
      "metadata": {
        "id": "DMkYj4W5KWYI",
        "colab_type": "code",
        "outputId": "c9374fb0-0242-4276-94e7-3b7b57f616de",
        "colab": {
          "base_uri": "https://localhost:8080/",
          "height": 35
        }
      },
      "source": [
        "data_columns = bat_data.columns\n",
        "bat_data.shape"
      ],
      "execution_count": 7,
      "outputs": [
        {
          "output_type": "execute_result",
          "data": {
            "text/plain": [
              "(5000000, 51)"
            ]
          },
          "metadata": {
            "tags": []
          },
          "execution_count": 7
        }
      ]
    },
    {
      "cell_type": "markdown",
      "metadata": {
        "id": "Lu-m1kLsyYZs",
        "colab_type": "text"
      },
      "source": [
        "### Removal of Extra Features"
      ]
    },
    {
      "cell_type": "code",
      "metadata": {
        "id": "7K_SavqvKWYM",
        "colab_type": "code",
        "outputId": "08816182-e895-476a-f65d-c12f0348f047",
        "colab": {
          "base_uri": "https://localhost:8080/",
          "height": 222
        }
      },
      "source": [
        "input_data = bat_data.copy()\n",
        "columns_to_drop = ['id', 'vin', 'vin_prefix', 'record_id','recorded_time', 'actual_time', 'arrival_time', 'powermode', 'mheader_vin', 'mheader_time', 'mheader_type', 'message','cat4', 'cat6', 'cat7', 'inlet_coolant_temp','cooling_energy_used', 'max_soh_cell', 'power_soh', 'min_soh', 'max_soh', 'soh','min_soh_cell_id','imbalance_percent', 'parkingdata_hvbattavgsocoatevent', 'parkingdata_hvbattavtempatevent']\n",
        "input_data = input_data.drop(columns=columns_to_drop)\n",
        "input_data.head()\n",
        "\n",
        "## keep vin_prefix for input variables\n",
        "## min_voltage is highly correlated with traction voltage and max_voltage\n",
        "## "
      ],
      "execution_count": 8,
      "outputs": [
        {
          "output_type": "execute_result",
          "data": {
            "text/html": [
              "<div>\n",
              "<style scoped>\n",
              "    .dataframe tbody tr th:only-of-type {\n",
              "        vertical-align: middle;\n",
              "    }\n",
              "\n",
              "    .dataframe tbody tr th {\n",
              "        vertical-align: top;\n",
              "    }\n",
              "\n",
              "    .dataframe thead th {\n",
              "        text-align: right;\n",
              "    }\n",
              "</style>\n",
              "<table border=\"1\" class=\"dataframe\">\n",
              "  <thead>\n",
              "    <tr style=\"text-align: right;\">\n",
              "      <th></th>\n",
              "      <th>odometer</th>\n",
              "      <th>ambient_temp</th>\n",
              "      <th>vehicle_speed</th>\n",
              "      <th>balancing_trigger_cell</th>\n",
              "      <th>balancing_status</th>\n",
              "      <th>min_voltage</th>\n",
              "      <th>min_temp</th>\n",
              "      <th>traction_current</th>\n",
              "      <th>max_voltage</th>\n",
              "      <th>imbalance</th>\n",
              "      <th>traction_voltage</th>\n",
              "      <th>min_temp_cell</th>\n",
              "      <th>min_voltage_cell</th>\n",
              "      <th>max_voltage_cell</th>\n",
              "      <th>max_temp</th>\n",
              "      <th>max_temp_cell</th>\n",
              "      <th>fuse_temp</th>\n",
              "      <th>emodule_temp</th>\n",
              "      <th>thermal_manager_mode</th>\n",
              "      <th>outlet_coolant_temp</th>\n",
              "      <th>fast_charge_count</th>\n",
              "      <th>cycle</th>\n",
              "      <th>num_cycle</th>\n",
              "      <th>fast_charge</th>\n",
              "      <th>trip_distance</th>\n",
              "    </tr>\n",
              "  </thead>\n",
              "  <tbody>\n",
              "    <tr>\n",
              "      <th>0</th>\n",
              "      <td>10619</td>\n",
              "      <td>6.5</td>\n",
              "      <td>0.0</td>\n",
              "      <td>22</td>\n",
              "      <td>noBalancing</td>\n",
              "      <td>4.107</td>\n",
              "      <td>12</td>\n",
              "      <td>0.675</td>\n",
              "      <td>4.153</td>\n",
              "      <td>0.046</td>\n",
              "      <td>445</td>\n",
              "      <td>15</td>\n",
              "      <td>22</td>\n",
              "      <td>96</td>\n",
              "      <td>14</td>\n",
              "      <td>1</td>\n",
              "      <td>870</td>\n",
              "      <td>135</td>\n",
              "      <td>activeHeating</td>\n",
              "      <td>195</td>\n",
              "      <td>0</td>\n",
              "      <td>storage</td>\n",
              "      <td>1</td>\n",
              "      <td>False</td>\n",
              "      <td>0</td>\n",
              "    </tr>\n",
              "    <tr>\n",
              "      <th>1</th>\n",
              "      <td>9531</td>\n",
              "      <td>4.0</td>\n",
              "      <td>0.0</td>\n",
              "      <td>22</td>\n",
              "      <td>noBalancing</td>\n",
              "      <td>3.983</td>\n",
              "      <td>6</td>\n",
              "      <td>7.375</td>\n",
              "      <td>4.008</td>\n",
              "      <td>0.025</td>\n",
              "      <td>432</td>\n",
              "      <td>16</td>\n",
              "      <td>36</td>\n",
              "      <td>21</td>\n",
              "      <td>7</td>\n",
              "      <td>1</td>\n",
              "      <td>870</td>\n",
              "      <td>90</td>\n",
              "      <td>idle</td>\n",
              "      <td>55</td>\n",
              "      <td>0</td>\n",
              "      <td>storage</td>\n",
              "      <td>1</td>\n",
              "      <td>False</td>\n",
              "      <td>-1088</td>\n",
              "    </tr>\n",
              "    <tr>\n",
              "      <th>2</th>\n",
              "      <td>9531</td>\n",
              "      <td>4.0</td>\n",
              "      <td>0.0</td>\n",
              "      <td>22</td>\n",
              "      <td>noBalancing</td>\n",
              "      <td>3.989</td>\n",
              "      <td>6</td>\n",
              "      <td>7.600</td>\n",
              "      <td>4.023</td>\n",
              "      <td>0.034</td>\n",
              "      <td>431</td>\n",
              "      <td>16</td>\n",
              "      <td>36</td>\n",
              "      <td>76</td>\n",
              "      <td>7</td>\n",
              "      <td>1</td>\n",
              "      <td>870</td>\n",
              "      <td>90</td>\n",
              "      <td>idle</td>\n",
              "      <td>55</td>\n",
              "      <td>0</td>\n",
              "      <td>storage</td>\n",
              "      <td>1</td>\n",
              "      <td>False</td>\n",
              "      <td>0</td>\n",
              "    </tr>\n",
              "    <tr>\n",
              "      <th>3</th>\n",
              "      <td>9531</td>\n",
              "      <td>4.0</td>\n",
              "      <td>0.0</td>\n",
              "      <td>22</td>\n",
              "      <td>noBalancing</td>\n",
              "      <td>3.984</td>\n",
              "      <td>6</td>\n",
              "      <td>6.850</td>\n",
              "      <td>4.020</td>\n",
              "      <td>0.036</td>\n",
              "      <td>431</td>\n",
              "      <td>16</td>\n",
              "      <td>36</td>\n",
              "      <td>79</td>\n",
              "      <td>7</td>\n",
              "      <td>1</td>\n",
              "      <td>870</td>\n",
              "      <td>90</td>\n",
              "      <td>idle</td>\n",
              "      <td>55</td>\n",
              "      <td>0</td>\n",
              "      <td>storage</td>\n",
              "      <td>1</td>\n",
              "      <td>False</td>\n",
              "      <td>0</td>\n",
              "    </tr>\n",
              "    <tr>\n",
              "      <th>4</th>\n",
              "      <td>9531</td>\n",
              "      <td>4.0</td>\n",
              "      <td>0.0</td>\n",
              "      <td>22</td>\n",
              "      <td>noBalancing</td>\n",
              "      <td>3.980</td>\n",
              "      <td>6</td>\n",
              "      <td>7.000</td>\n",
              "      <td>4.015</td>\n",
              "      <td>0.035</td>\n",
              "      <td>431</td>\n",
              "      <td>16</td>\n",
              "      <td>36</td>\n",
              "      <td>85</td>\n",
              "      <td>7</td>\n",
              "      <td>1</td>\n",
              "      <td>870</td>\n",
              "      <td>90</td>\n",
              "      <td>idle</td>\n",
              "      <td>55</td>\n",
              "      <td>0</td>\n",
              "      <td>storage</td>\n",
              "      <td>1</td>\n",
              "      <td>False</td>\n",
              "      <td>0</td>\n",
              "    </tr>\n",
              "  </tbody>\n",
              "</table>\n",
              "</div>"
            ],
            "text/plain": [
              "   odometer  ambient_temp  vehicle_speed  ...  num_cycle fast_charge  trip_distance\n",
              "0     10619           6.5            0.0  ...          1       False              0\n",
              "1      9531           4.0            0.0  ...          1       False          -1088\n",
              "2      9531           4.0            0.0  ...          1       False              0\n",
              "3      9531           4.0            0.0  ...          1       False              0\n",
              "4      9531           4.0            0.0  ...          1       False              0\n",
              "\n",
              "[5 rows x 25 columns]"
            ]
          },
          "metadata": {
            "tags": []
          },
          "execution_count": 8
        }
      ]
    },
    {
      "cell_type": "code",
      "metadata": {
        "id": "N1rv5wmEKWYP",
        "colab_type": "code",
        "colab": {}
      },
      "source": [
        "output_data = bat_data.soh"
      ],
      "execution_count": 0,
      "outputs": []
    },
    {
      "cell_type": "code",
      "metadata": {
        "id": "K8pCEEL9KWYX",
        "colab_type": "code",
        "colab": {}
      },
      "source": [
        "#!pip install sklearn\n",
        "from sklearn.model_selection import train_test_split \n",
        "from sklearn.linear_model import LinearRegression\n",
        "from sklearn import metrics\n"
      ],
      "execution_count": 0,
      "outputs": []
    },
    {
      "cell_type": "code",
      "metadata": {
        "id": "-w0_BchlKWYa",
        "colab_type": "code",
        "outputId": "1805223e-7d76-4126-e262-d4bccc6cec22",
        "colab": {
          "base_uri": "https://localhost:8080/",
          "height": 589
        }
      },
      "source": [
        "print(input_data.info())"
      ],
      "execution_count": 11,
      "outputs": [
        {
          "output_type": "stream",
          "text": [
            "<class 'pandas.core.frame.DataFrame'>\n",
            "RangeIndex: 5000000 entries, 0 to 4999999\n",
            "Data columns (total 25 columns):\n",
            " #   Column                  Dtype  \n",
            "---  ------                  -----  \n",
            " 0   odometer                int64  \n",
            " 1   ambient_temp            float64\n",
            " 2   vehicle_speed           float64\n",
            " 3   balancing_trigger_cell  int64  \n",
            " 4   balancing_status        object \n",
            " 5   min_voltage             float64\n",
            " 6   min_temp                int64  \n",
            " 7   traction_current        float64\n",
            " 8   max_voltage             float64\n",
            " 9   imbalance               float64\n",
            " 10  traction_voltage        int64  \n",
            " 11  min_temp_cell           int64  \n",
            " 12  min_voltage_cell        int64  \n",
            " 13  max_voltage_cell        int64  \n",
            " 14  max_temp                int64  \n",
            " 15  max_temp_cell           int64  \n",
            " 16  fuse_temp               int64  \n",
            " 17  emodule_temp            int64  \n",
            " 18  thermal_manager_mode    object \n",
            " 19  outlet_coolant_temp     int64  \n",
            " 20  fast_charge_count       int64  \n",
            " 21  cycle                   object \n",
            " 22  num_cycle               int64  \n",
            " 23  fast_charge             bool   \n",
            " 24  trip_distance           int64  \n",
            "dtypes: bool(1), float64(6), int64(15), object(3)\n",
            "memory usage: 920.3+ MB\n",
            "None\n"
          ],
          "name": "stdout"
        }
      ]
    },
    {
      "cell_type": "code",
      "metadata": {
        "id": "DBuSHgBCKWYd",
        "colab_type": "code",
        "outputId": "60ea07fe-d153-431d-c49e-b9cb50dc123d",
        "colab": {
          "base_uri": "https://localhost:8080/",
          "height": 331
        }
      },
      "source": [
        "input_data.describe()"
      ],
      "execution_count": 12,
      "outputs": [
        {
          "output_type": "execute_result",
          "data": {
            "text/html": [
              "<div>\n",
              "<style scoped>\n",
              "    .dataframe tbody tr th:only-of-type {\n",
              "        vertical-align: middle;\n",
              "    }\n",
              "\n",
              "    .dataframe tbody tr th {\n",
              "        vertical-align: top;\n",
              "    }\n",
              "\n",
              "    .dataframe thead th {\n",
              "        text-align: right;\n",
              "    }\n",
              "</style>\n",
              "<table border=\"1\" class=\"dataframe\">\n",
              "  <thead>\n",
              "    <tr style=\"text-align: right;\">\n",
              "      <th></th>\n",
              "      <th>odometer</th>\n",
              "      <th>ambient_temp</th>\n",
              "      <th>vehicle_speed</th>\n",
              "      <th>balancing_trigger_cell</th>\n",
              "      <th>min_voltage</th>\n",
              "      <th>min_temp</th>\n",
              "      <th>traction_current</th>\n",
              "      <th>max_voltage</th>\n",
              "      <th>imbalance</th>\n",
              "      <th>traction_voltage</th>\n",
              "      <th>min_temp_cell</th>\n",
              "      <th>min_voltage_cell</th>\n",
              "      <th>max_voltage_cell</th>\n",
              "      <th>max_temp</th>\n",
              "      <th>max_temp_cell</th>\n",
              "      <th>fuse_temp</th>\n",
              "      <th>emodule_temp</th>\n",
              "      <th>outlet_coolant_temp</th>\n",
              "      <th>fast_charge_count</th>\n",
              "      <th>num_cycle</th>\n",
              "      <th>trip_distance</th>\n",
              "    </tr>\n",
              "  </thead>\n",
              "  <tbody>\n",
              "    <tr>\n",
              "      <th>count</th>\n",
              "      <td>5.000000e+06</td>\n",
              "      <td>5.000000e+06</td>\n",
              "      <td>5.000000e+06</td>\n",
              "      <td>5.000000e+06</td>\n",
              "      <td>5.000000e+06</td>\n",
              "      <td>5.000000e+06</td>\n",
              "      <td>5.000000e+06</td>\n",
              "      <td>5.000000e+06</td>\n",
              "      <td>5.000000e+06</td>\n",
              "      <td>5.000000e+06</td>\n",
              "      <td>5.000000e+06</td>\n",
              "      <td>5.000000e+06</td>\n",
              "      <td>5.000000e+06</td>\n",
              "      <td>5.000000e+06</td>\n",
              "      <td>5.000000e+06</td>\n",
              "      <td>5000000.0</td>\n",
              "      <td>5.000000e+06</td>\n",
              "      <td>5.000000e+06</td>\n",
              "      <td>5.000000e+06</td>\n",
              "      <td>5.000000e+06</td>\n",
              "      <td>5.000000e+06</td>\n",
              "    </tr>\n",
              "    <tr>\n",
              "      <th>mean</th>\n",
              "      <td>6.022747e+03</td>\n",
              "      <td>8.166511e+00</td>\n",
              "      <td>9.096009e+00</td>\n",
              "      <td>5.399849e+01</td>\n",
              "      <td>3.875592e+00</td>\n",
              "      <td>1.297500e+01</td>\n",
              "      <td>9.557473e-01</td>\n",
              "      <td>3.898762e+00</td>\n",
              "      <td>2.317026e-02</td>\n",
              "      <td>4.197902e+02</td>\n",
              "      <td>1.478663e+01</td>\n",
              "      <td>5.057649e+01</td>\n",
              "      <td>4.643353e+01</td>\n",
              "      <td>1.427008e+01</td>\n",
              "      <td>1.035602e+01</td>\n",
              "      <td>870.0</td>\n",
              "      <td>2.231267e+02</td>\n",
              "      <td>1.282786e+02</td>\n",
              "      <td>8.433206e-01</td>\n",
              "      <td>1.348539e+01</td>\n",
              "      <td>2.084781e+00</td>\n",
              "    </tr>\n",
              "    <tr>\n",
              "      <th>std</th>\n",
              "      <td>4.665965e+03</td>\n",
              "      <td>1.157040e+01</td>\n",
              "      <td>2.575845e+01</td>\n",
              "      <td>3.102527e+01</td>\n",
              "      <td>1.713892e-01</td>\n",
              "      <td>4.548709e+00</td>\n",
              "      <td>6.158642e+02</td>\n",
              "      <td>1.735946e-01</td>\n",
              "      <td>2.601951e-02</td>\n",
              "      <td>1.826972e+01</td>\n",
              "      <td>1.854689e+01</td>\n",
              "      <td>3.111926e+01</td>\n",
              "      <td>3.034684e+01</td>\n",
              "      <td>4.836183e+00</td>\n",
              "      <td>1.754046e+01</td>\n",
              "      <td>0.0</td>\n",
              "      <td>6.463223e+01</td>\n",
              "      <td>7.146901e+01</td>\n",
              "      <td>5.939860e+00</td>\n",
              "      <td>1.185646e+01</td>\n",
              "      <td>4.613855e+01</td>\n",
              "    </tr>\n",
              "    <tr>\n",
              "      <th>min</th>\n",
              "      <td>0.000000e+00</td>\n",
              "      <td>-1.280000e+02</td>\n",
              "      <td>0.000000e+00</td>\n",
              "      <td>0.000000e+00</td>\n",
              "      <td>0.000000e+00</td>\n",
              "      <td>-4.000000e+01</td>\n",
              "      <td>-2.097152e+05</td>\n",
              "      <td>0.000000e+00</td>\n",
              "      <td>-2.000000e-02</td>\n",
              "      <td>0.000000e+00</td>\n",
              "      <td>1.000000e+00</td>\n",
              "      <td>1.000000e+00</td>\n",
              "      <td>1.000000e+00</td>\n",
              "      <td>-4.000000e+01</td>\n",
              "      <td>1.000000e+00</td>\n",
              "      <td>870.0</td>\n",
              "      <td>-1.500000e+02</td>\n",
              "      <td>-1.600000e+02</td>\n",
              "      <td>0.000000e+00</td>\n",
              "      <td>1.000000e+00</td>\n",
              "      <td>-5.278800e+04</td>\n",
              "    </tr>\n",
              "    <tr>\n",
              "      <th>25%</th>\n",
              "      <td>2.813000e+03</td>\n",
              "      <td>6.250000e+00</td>\n",
              "      <td>0.000000e+00</td>\n",
              "      <td>2.800000e+01</td>\n",
              "      <td>3.744000e+00</td>\n",
              "      <td>1.100000e+01</td>\n",
              "      <td>-9.200000e+00</td>\n",
              "      <td>3.768000e+00</td>\n",
              "      <td>1.200000e-02</td>\n",
              "      <td>4.060000e+02</td>\n",
              "      <td>1.000000e+00</td>\n",
              "      <td>2.300000e+01</td>\n",
              "      <td>2.000000e+01</td>\n",
              "      <td>1.200000e+01</td>\n",
              "      <td>1.000000e+00</td>\n",
              "      <td>870.0</td>\n",
              "      <td>1.900000e+02</td>\n",
              "      <td>1.000000e+02</td>\n",
              "      <td>0.000000e+00</td>\n",
              "      <td>5.000000e+00</td>\n",
              "      <td>0.000000e+00</td>\n",
              "    </tr>\n",
              "    <tr>\n",
              "      <th>50%</th>\n",
              "      <td>5.412000e+03</td>\n",
              "      <td>9.000000e+00</td>\n",
              "      <td>0.000000e+00</td>\n",
              "      <td>5.400000e+01</td>\n",
              "      <td>3.894000e+00</td>\n",
              "      <td>1.300000e+01</td>\n",
              "      <td>-6.425000e+00</td>\n",
              "      <td>3.918000e+00</td>\n",
              "      <td>1.700000e-02</td>\n",
              "      <td>4.220000e+02</td>\n",
              "      <td>1.000000e+01</td>\n",
              "      <td>4.900000e+01</td>\n",
              "      <td>4.300000e+01</td>\n",
              "      <td>1.400000e+01</td>\n",
              "      <td>1.000000e+00</td>\n",
              "      <td>870.0</td>\n",
              "      <td>2.300000e+02</td>\n",
              "      <td>1.250000e+02</td>\n",
              "      <td>0.000000e+00</td>\n",
              "      <td>1.100000e+01</td>\n",
              "      <td>0.000000e+00</td>\n",
              "    </tr>\n",
              "    <tr>\n",
              "      <th>75%</th>\n",
              "      <td>8.233000e+03</td>\n",
              "      <td>1.150000e+01</td>\n",
              "      <td>0.000000e+00</td>\n",
              "      <td>7.900000e+01</td>\n",
              "      <td>4.018000e+00</td>\n",
              "      <td>1.500000e+01</td>\n",
              "      <td>-9.500000e-01</td>\n",
              "      <td>4.043000e+00</td>\n",
              "      <td>2.600000e-02</td>\n",
              "      <td>4.350000e+02</td>\n",
              "      <td>1.800000e+01</td>\n",
              "      <td>7.600000e+01</td>\n",
              "      <td>7.000000e+01</td>\n",
              "      <td>1.700000e+01</td>\n",
              "      <td>1.600000e+01</td>\n",
              "      <td>870.0</td>\n",
              "      <td>2.600000e+02</td>\n",
              "      <td>1.450000e+02</td>\n",
              "      <td>0.000000e+00</td>\n",
              "      <td>1.900000e+01</td>\n",
              "      <td>0.000000e+00</td>\n",
              "    </tr>\n",
              "    <tr>\n",
              "      <th>max</th>\n",
              "      <td>1.422560e+05</td>\n",
              "      <td>4.650000e+01</td>\n",
              "      <td>2.001300e+02</td>\n",
              "      <td>1.080000e+02</td>\n",
              "      <td>4.155000e+00</td>\n",
              "      <td>5.100000e+01</td>\n",
              "      <td>2.097152e+05</td>\n",
              "      <td>4.183000e+00</td>\n",
              "      <td>1.141000e+00</td>\n",
              "      <td>4.500000e+02</td>\n",
              "      <td>1.080000e+02</td>\n",
              "      <td>1.080000e+02</td>\n",
              "      <td>1.080000e+02</td>\n",
              "      <td>5.500000e+01</td>\n",
              "      <td>1.080000e+02</td>\n",
              "      <td>870.0</td>\n",
              "      <td>8.750000e+02</td>\n",
              "      <td>8.700000e+02</td>\n",
              "      <td>2.000000e+02</td>\n",
              "      <td>2.470000e+02</td>\n",
              "      <td>5.279000e+04</td>\n",
              "    </tr>\n",
              "  </tbody>\n",
              "</table>\n",
              "</div>"
            ],
            "text/plain": [
              "           odometer  ambient_temp  ...     num_cycle  trip_distance\n",
              "count  5.000000e+06  5.000000e+06  ...  5.000000e+06   5.000000e+06\n",
              "mean   6.022747e+03  8.166511e+00  ...  1.348539e+01   2.084781e+00\n",
              "std    4.665965e+03  1.157040e+01  ...  1.185646e+01   4.613855e+01\n",
              "min    0.000000e+00 -1.280000e+02  ...  1.000000e+00  -5.278800e+04\n",
              "25%    2.813000e+03  6.250000e+00  ...  5.000000e+00   0.000000e+00\n",
              "50%    5.412000e+03  9.000000e+00  ...  1.100000e+01   0.000000e+00\n",
              "75%    8.233000e+03  1.150000e+01  ...  1.900000e+01   0.000000e+00\n",
              "max    1.422560e+05  4.650000e+01  ...  2.470000e+02   5.279000e+04\n",
              "\n",
              "[8 rows x 21 columns]"
            ]
          },
          "metadata": {
            "tags": []
          },
          "execution_count": 12
        }
      ]
    },
    {
      "cell_type": "markdown",
      "metadata": {
        "id": "Vp69lJbmyWoj",
        "colab_type": "text"
      },
      "source": [
        "### Replacing String Categorical Variables to Numeric Categorical Features"
      ]
    },
    {
      "cell_type": "code",
      "metadata": {
        "id": "BBibH9NZKWYk",
        "colab_type": "code",
        "outputId": "df2d52b7-3792-40ff-af17-dba970b2453a",
        "colab": {
          "base_uri": "https://localhost:8080/",
          "height": 399
        }
      },
      "source": [
        "object_attr = ['balancing_status', 'thermal_manager_mode', 'cycle', 'fast_charge']\n",
        "for attr in object_attr:\n",
        "    print(attr)\n",
        "    print(bat_data[attr].value_counts())\n",
        "    "
      ],
      "execution_count": 13,
      "outputs": [
        {
          "output_type": "stream",
          "text": [
            "balancing_status\n",
            "noBalancing         3572630\n",
            "passiveBalancing    1426264\n",
            "initialValue           1106\n",
            "Name: balancing_status, dtype: int64\n",
            "thermal_manager_mode\n",
            "idle                2647812\n",
            "activeHeating       2340570\n",
            "passingCooling         5702\n",
            "thermalBalancing       4862\n",
            "initialValue            558\n",
            "activeCooling           496\n",
            "Name: thermal_manager_mode, dtype: int64\n",
            "cycle\n",
            "charge     3595456\n",
            "drive       937049\n",
            "storage     467495\n",
            "Name: cycle, dtype: int64\n",
            "fast_charge\n",
            "False    4979009\n",
            "True       20991\n",
            "Name: fast_charge, dtype: int64\n"
          ],
          "name": "stdout"
        }
      ]
    },
    {
      "cell_type": "code",
      "metadata": {
        "id": "V30pbypjKWYo",
        "colab_type": "code",
        "colab": {}
      },
      "source": [
        "balancing_kvp = {'noBalancing' : 1, 'passiveBalancing' : 2, 'initialValue' : 3}\n",
        "thermal_kvp = {'idle' : 1, 'activeHeating' : 2, 'passingCooling' : 3, 'thermalBalancing' : 4, 'initialValue' : 5, 'activeCooling' : 6}\n",
        "cycle_kvp = {'charge' : 1, 'drive' : 2, 'storage' : 3}\n",
        "fast_charge_kvp = {False : 0, True : 1}"
      ],
      "execution_count": 0,
      "outputs": []
    },
    {
      "cell_type": "code",
      "metadata": {
        "id": "qVfl7LEoKWYs",
        "colab_type": "code",
        "colab": {}
      },
      "source": [
        "input_data[object_attr[0]] = input_data[object_attr[0]].replace(balancing_kvp)\n",
        "input_data[object_attr[1]] = input_data[object_attr[1]].replace(thermal_kvp)\n",
        "input_data[object_attr[2]] = input_data[object_attr[2]].replace(cycle_kvp)\n",
        "input_data[object_attr[3]] = input_data[object_attr[3]].replace(fast_charge_kvp)\n",
        "#fast_charge_kvp = {False : -1, True : 1}"
      ],
      "execution_count": 0,
      "outputs": []
    },
    {
      "cell_type": "code",
      "metadata": {
        "id": "QzLm8hEHKWYv",
        "colab_type": "code",
        "outputId": "c6a526fd-1309-4d18-d6a3-9e9a501e737a",
        "colab": {
          "base_uri": "https://localhost:8080/",
          "height": 222
        }
      },
      "source": [
        "#input_data = input_data.drop(columns=['recorded_time'])\n",
        "input_data.head()"
      ],
      "execution_count": 16,
      "outputs": [
        {
          "output_type": "execute_result",
          "data": {
            "text/html": [
              "<div>\n",
              "<style scoped>\n",
              "    .dataframe tbody tr th:only-of-type {\n",
              "        vertical-align: middle;\n",
              "    }\n",
              "\n",
              "    .dataframe tbody tr th {\n",
              "        vertical-align: top;\n",
              "    }\n",
              "\n",
              "    .dataframe thead th {\n",
              "        text-align: right;\n",
              "    }\n",
              "</style>\n",
              "<table border=\"1\" class=\"dataframe\">\n",
              "  <thead>\n",
              "    <tr style=\"text-align: right;\">\n",
              "      <th></th>\n",
              "      <th>odometer</th>\n",
              "      <th>ambient_temp</th>\n",
              "      <th>vehicle_speed</th>\n",
              "      <th>balancing_trigger_cell</th>\n",
              "      <th>balancing_status</th>\n",
              "      <th>min_voltage</th>\n",
              "      <th>min_temp</th>\n",
              "      <th>traction_current</th>\n",
              "      <th>max_voltage</th>\n",
              "      <th>imbalance</th>\n",
              "      <th>traction_voltage</th>\n",
              "      <th>min_temp_cell</th>\n",
              "      <th>min_voltage_cell</th>\n",
              "      <th>max_voltage_cell</th>\n",
              "      <th>max_temp</th>\n",
              "      <th>max_temp_cell</th>\n",
              "      <th>fuse_temp</th>\n",
              "      <th>emodule_temp</th>\n",
              "      <th>thermal_manager_mode</th>\n",
              "      <th>outlet_coolant_temp</th>\n",
              "      <th>fast_charge_count</th>\n",
              "      <th>cycle</th>\n",
              "      <th>num_cycle</th>\n",
              "      <th>fast_charge</th>\n",
              "      <th>trip_distance</th>\n",
              "    </tr>\n",
              "  </thead>\n",
              "  <tbody>\n",
              "    <tr>\n",
              "      <th>0</th>\n",
              "      <td>10619</td>\n",
              "      <td>6.5</td>\n",
              "      <td>0.0</td>\n",
              "      <td>22</td>\n",
              "      <td>1</td>\n",
              "      <td>4.107</td>\n",
              "      <td>12</td>\n",
              "      <td>0.675</td>\n",
              "      <td>4.153</td>\n",
              "      <td>0.046</td>\n",
              "      <td>445</td>\n",
              "      <td>15</td>\n",
              "      <td>22</td>\n",
              "      <td>96</td>\n",
              "      <td>14</td>\n",
              "      <td>1</td>\n",
              "      <td>870</td>\n",
              "      <td>135</td>\n",
              "      <td>2</td>\n",
              "      <td>195</td>\n",
              "      <td>0</td>\n",
              "      <td>3</td>\n",
              "      <td>1</td>\n",
              "      <td>0</td>\n",
              "      <td>0</td>\n",
              "    </tr>\n",
              "    <tr>\n",
              "      <th>1</th>\n",
              "      <td>9531</td>\n",
              "      <td>4.0</td>\n",
              "      <td>0.0</td>\n",
              "      <td>22</td>\n",
              "      <td>1</td>\n",
              "      <td>3.983</td>\n",
              "      <td>6</td>\n",
              "      <td>7.375</td>\n",
              "      <td>4.008</td>\n",
              "      <td>0.025</td>\n",
              "      <td>432</td>\n",
              "      <td>16</td>\n",
              "      <td>36</td>\n",
              "      <td>21</td>\n",
              "      <td>7</td>\n",
              "      <td>1</td>\n",
              "      <td>870</td>\n",
              "      <td>90</td>\n",
              "      <td>1</td>\n",
              "      <td>55</td>\n",
              "      <td>0</td>\n",
              "      <td>3</td>\n",
              "      <td>1</td>\n",
              "      <td>0</td>\n",
              "      <td>-1088</td>\n",
              "    </tr>\n",
              "    <tr>\n",
              "      <th>2</th>\n",
              "      <td>9531</td>\n",
              "      <td>4.0</td>\n",
              "      <td>0.0</td>\n",
              "      <td>22</td>\n",
              "      <td>1</td>\n",
              "      <td>3.989</td>\n",
              "      <td>6</td>\n",
              "      <td>7.600</td>\n",
              "      <td>4.023</td>\n",
              "      <td>0.034</td>\n",
              "      <td>431</td>\n",
              "      <td>16</td>\n",
              "      <td>36</td>\n",
              "      <td>76</td>\n",
              "      <td>7</td>\n",
              "      <td>1</td>\n",
              "      <td>870</td>\n",
              "      <td>90</td>\n",
              "      <td>1</td>\n",
              "      <td>55</td>\n",
              "      <td>0</td>\n",
              "      <td>3</td>\n",
              "      <td>1</td>\n",
              "      <td>0</td>\n",
              "      <td>0</td>\n",
              "    </tr>\n",
              "    <tr>\n",
              "      <th>3</th>\n",
              "      <td>9531</td>\n",
              "      <td>4.0</td>\n",
              "      <td>0.0</td>\n",
              "      <td>22</td>\n",
              "      <td>1</td>\n",
              "      <td>3.984</td>\n",
              "      <td>6</td>\n",
              "      <td>6.850</td>\n",
              "      <td>4.020</td>\n",
              "      <td>0.036</td>\n",
              "      <td>431</td>\n",
              "      <td>16</td>\n",
              "      <td>36</td>\n",
              "      <td>79</td>\n",
              "      <td>7</td>\n",
              "      <td>1</td>\n",
              "      <td>870</td>\n",
              "      <td>90</td>\n",
              "      <td>1</td>\n",
              "      <td>55</td>\n",
              "      <td>0</td>\n",
              "      <td>3</td>\n",
              "      <td>1</td>\n",
              "      <td>0</td>\n",
              "      <td>0</td>\n",
              "    </tr>\n",
              "    <tr>\n",
              "      <th>4</th>\n",
              "      <td>9531</td>\n",
              "      <td>4.0</td>\n",
              "      <td>0.0</td>\n",
              "      <td>22</td>\n",
              "      <td>1</td>\n",
              "      <td>3.980</td>\n",
              "      <td>6</td>\n",
              "      <td>7.000</td>\n",
              "      <td>4.015</td>\n",
              "      <td>0.035</td>\n",
              "      <td>431</td>\n",
              "      <td>16</td>\n",
              "      <td>36</td>\n",
              "      <td>85</td>\n",
              "      <td>7</td>\n",
              "      <td>1</td>\n",
              "      <td>870</td>\n",
              "      <td>90</td>\n",
              "      <td>1</td>\n",
              "      <td>55</td>\n",
              "      <td>0</td>\n",
              "      <td>3</td>\n",
              "      <td>1</td>\n",
              "      <td>0</td>\n",
              "      <td>0</td>\n",
              "    </tr>\n",
              "  </tbody>\n",
              "</table>\n",
              "</div>"
            ],
            "text/plain": [
              "   odometer  ambient_temp  vehicle_speed  ...  num_cycle  fast_charge  trip_distance\n",
              "0     10619           6.5            0.0  ...          1            0              0\n",
              "1      9531           4.0            0.0  ...          1            0          -1088\n",
              "2      9531           4.0            0.0  ...          1            0              0\n",
              "3      9531           4.0            0.0  ...          1            0              0\n",
              "4      9531           4.0            0.0  ...          1            0              0\n",
              "\n",
              "[5 rows x 25 columns]"
            ]
          },
          "metadata": {
            "tags": []
          },
          "execution_count": 16
        }
      ]
    },
    {
      "cell_type": "code",
      "metadata": {
        "id": "CEJtJaF9KWY1",
        "colab_type": "code",
        "outputId": "ad9f9786-ccf6-4462-8b4e-f77dfd1cc38a",
        "colab": {
          "base_uri": "https://localhost:8080/",
          "height": 435
        }
      },
      "source": [
        "input_data.replace([np.inf, -np.inf], np.nan)"
      ],
      "execution_count": 17,
      "outputs": [
        {
          "output_type": "execute_result",
          "data": {
            "text/html": [
              "<div>\n",
              "<style scoped>\n",
              "    .dataframe tbody tr th:only-of-type {\n",
              "        vertical-align: middle;\n",
              "    }\n",
              "\n",
              "    .dataframe tbody tr th {\n",
              "        vertical-align: top;\n",
              "    }\n",
              "\n",
              "    .dataframe thead th {\n",
              "        text-align: right;\n",
              "    }\n",
              "</style>\n",
              "<table border=\"1\" class=\"dataframe\">\n",
              "  <thead>\n",
              "    <tr style=\"text-align: right;\">\n",
              "      <th></th>\n",
              "      <th>odometer</th>\n",
              "      <th>ambient_temp</th>\n",
              "      <th>vehicle_speed</th>\n",
              "      <th>balancing_trigger_cell</th>\n",
              "      <th>balancing_status</th>\n",
              "      <th>min_voltage</th>\n",
              "      <th>min_temp</th>\n",
              "      <th>traction_current</th>\n",
              "      <th>max_voltage</th>\n",
              "      <th>imbalance</th>\n",
              "      <th>traction_voltage</th>\n",
              "      <th>min_temp_cell</th>\n",
              "      <th>min_voltage_cell</th>\n",
              "      <th>max_voltage_cell</th>\n",
              "      <th>max_temp</th>\n",
              "      <th>max_temp_cell</th>\n",
              "      <th>fuse_temp</th>\n",
              "      <th>emodule_temp</th>\n",
              "      <th>thermal_manager_mode</th>\n",
              "      <th>outlet_coolant_temp</th>\n",
              "      <th>fast_charge_count</th>\n",
              "      <th>cycle</th>\n",
              "      <th>num_cycle</th>\n",
              "      <th>fast_charge</th>\n",
              "      <th>trip_distance</th>\n",
              "    </tr>\n",
              "  </thead>\n",
              "  <tbody>\n",
              "    <tr>\n",
              "      <th>0</th>\n",
              "      <td>10619</td>\n",
              "      <td>6.50</td>\n",
              "      <td>0.0</td>\n",
              "      <td>22</td>\n",
              "      <td>1</td>\n",
              "      <td>4.107</td>\n",
              "      <td>12</td>\n",
              "      <td>0.675</td>\n",
              "      <td>4.153</td>\n",
              "      <td>0.046</td>\n",
              "      <td>445</td>\n",
              "      <td>15</td>\n",
              "      <td>22</td>\n",
              "      <td>96</td>\n",
              "      <td>14</td>\n",
              "      <td>1</td>\n",
              "      <td>870</td>\n",
              "      <td>135</td>\n",
              "      <td>2</td>\n",
              "      <td>195</td>\n",
              "      <td>0</td>\n",
              "      <td>3</td>\n",
              "      <td>1</td>\n",
              "      <td>0</td>\n",
              "      <td>0</td>\n",
              "    </tr>\n",
              "    <tr>\n",
              "      <th>1</th>\n",
              "      <td>9531</td>\n",
              "      <td>4.00</td>\n",
              "      <td>0.0</td>\n",
              "      <td>22</td>\n",
              "      <td>1</td>\n",
              "      <td>3.983</td>\n",
              "      <td>6</td>\n",
              "      <td>7.375</td>\n",
              "      <td>4.008</td>\n",
              "      <td>0.025</td>\n",
              "      <td>432</td>\n",
              "      <td>16</td>\n",
              "      <td>36</td>\n",
              "      <td>21</td>\n",
              "      <td>7</td>\n",
              "      <td>1</td>\n",
              "      <td>870</td>\n",
              "      <td>90</td>\n",
              "      <td>1</td>\n",
              "      <td>55</td>\n",
              "      <td>0</td>\n",
              "      <td>3</td>\n",
              "      <td>1</td>\n",
              "      <td>0</td>\n",
              "      <td>-1088</td>\n",
              "    </tr>\n",
              "    <tr>\n",
              "      <th>2</th>\n",
              "      <td>9531</td>\n",
              "      <td>4.00</td>\n",
              "      <td>0.0</td>\n",
              "      <td>22</td>\n",
              "      <td>1</td>\n",
              "      <td>3.989</td>\n",
              "      <td>6</td>\n",
              "      <td>7.600</td>\n",
              "      <td>4.023</td>\n",
              "      <td>0.034</td>\n",
              "      <td>431</td>\n",
              "      <td>16</td>\n",
              "      <td>36</td>\n",
              "      <td>76</td>\n",
              "      <td>7</td>\n",
              "      <td>1</td>\n",
              "      <td>870</td>\n",
              "      <td>90</td>\n",
              "      <td>1</td>\n",
              "      <td>55</td>\n",
              "      <td>0</td>\n",
              "      <td>3</td>\n",
              "      <td>1</td>\n",
              "      <td>0</td>\n",
              "      <td>0</td>\n",
              "    </tr>\n",
              "    <tr>\n",
              "      <th>3</th>\n",
              "      <td>9531</td>\n",
              "      <td>4.00</td>\n",
              "      <td>0.0</td>\n",
              "      <td>22</td>\n",
              "      <td>1</td>\n",
              "      <td>3.984</td>\n",
              "      <td>6</td>\n",
              "      <td>6.850</td>\n",
              "      <td>4.020</td>\n",
              "      <td>0.036</td>\n",
              "      <td>431</td>\n",
              "      <td>16</td>\n",
              "      <td>36</td>\n",
              "      <td>79</td>\n",
              "      <td>7</td>\n",
              "      <td>1</td>\n",
              "      <td>870</td>\n",
              "      <td>90</td>\n",
              "      <td>1</td>\n",
              "      <td>55</td>\n",
              "      <td>0</td>\n",
              "      <td>3</td>\n",
              "      <td>1</td>\n",
              "      <td>0</td>\n",
              "      <td>0</td>\n",
              "    </tr>\n",
              "    <tr>\n",
              "      <th>4</th>\n",
              "      <td>9531</td>\n",
              "      <td>4.00</td>\n",
              "      <td>0.0</td>\n",
              "      <td>22</td>\n",
              "      <td>1</td>\n",
              "      <td>3.980</td>\n",
              "      <td>6</td>\n",
              "      <td>7.000</td>\n",
              "      <td>4.015</td>\n",
              "      <td>0.035</td>\n",
              "      <td>431</td>\n",
              "      <td>16</td>\n",
              "      <td>36</td>\n",
              "      <td>85</td>\n",
              "      <td>7</td>\n",
              "      <td>1</td>\n",
              "      <td>870</td>\n",
              "      <td>90</td>\n",
              "      <td>1</td>\n",
              "      <td>55</td>\n",
              "      <td>0</td>\n",
              "      <td>3</td>\n",
              "      <td>1</td>\n",
              "      <td>0</td>\n",
              "      <td>0</td>\n",
              "    </tr>\n",
              "    <tr>\n",
              "      <th>...</th>\n",
              "      <td>...</td>\n",
              "      <td>...</td>\n",
              "      <td>...</td>\n",
              "      <td>...</td>\n",
              "      <td>...</td>\n",
              "      <td>...</td>\n",
              "      <td>...</td>\n",
              "      <td>...</td>\n",
              "      <td>...</td>\n",
              "      <td>...</td>\n",
              "      <td>...</td>\n",
              "      <td>...</td>\n",
              "      <td>...</td>\n",
              "      <td>...</td>\n",
              "      <td>...</td>\n",
              "      <td>...</td>\n",
              "      <td>...</td>\n",
              "      <td>...</td>\n",
              "      <td>...</td>\n",
              "      <td>...</td>\n",
              "      <td>...</td>\n",
              "      <td>...</td>\n",
              "      <td>...</td>\n",
              "      <td>...</td>\n",
              "      <td>...</td>\n",
              "    </tr>\n",
              "    <tr>\n",
              "      <th>4999995</th>\n",
              "      <td>11008</td>\n",
              "      <td>9.75</td>\n",
              "      <td>0.0</td>\n",
              "      <td>87</td>\n",
              "      <td>1</td>\n",
              "      <td>4.123</td>\n",
              "      <td>14</td>\n",
              "      <td>-3.550</td>\n",
              "      <td>4.140</td>\n",
              "      <td>0.017</td>\n",
              "      <td>445</td>\n",
              "      <td>16</td>\n",
              "      <td>87</td>\n",
              "      <td>44</td>\n",
              "      <td>16</td>\n",
              "      <td>25</td>\n",
              "      <td>870</td>\n",
              "      <td>255</td>\n",
              "      <td>1</td>\n",
              "      <td>140</td>\n",
              "      <td>8</td>\n",
              "      <td>1</td>\n",
              "      <td>32</td>\n",
              "      <td>0</td>\n",
              "      <td>0</td>\n",
              "    </tr>\n",
              "    <tr>\n",
              "      <th>4999996</th>\n",
              "      <td>11008</td>\n",
              "      <td>9.75</td>\n",
              "      <td>0.0</td>\n",
              "      <td>87</td>\n",
              "      <td>1</td>\n",
              "      <td>4.123</td>\n",
              "      <td>14</td>\n",
              "      <td>-2.925</td>\n",
              "      <td>4.139</td>\n",
              "      <td>0.016</td>\n",
              "      <td>445</td>\n",
              "      <td>16</td>\n",
              "      <td>74</td>\n",
              "      <td>44</td>\n",
              "      <td>16</td>\n",
              "      <td>25</td>\n",
              "      <td>870</td>\n",
              "      <td>255</td>\n",
              "      <td>1</td>\n",
              "      <td>140</td>\n",
              "      <td>8</td>\n",
              "      <td>1</td>\n",
              "      <td>32</td>\n",
              "      <td>0</td>\n",
              "      <td>0</td>\n",
              "    </tr>\n",
              "    <tr>\n",
              "      <th>4999997</th>\n",
              "      <td>11008</td>\n",
              "      <td>9.75</td>\n",
              "      <td>0.0</td>\n",
              "      <td>87</td>\n",
              "      <td>1</td>\n",
              "      <td>4.123</td>\n",
              "      <td>14</td>\n",
              "      <td>-3.425</td>\n",
              "      <td>4.140</td>\n",
              "      <td>0.017</td>\n",
              "      <td>445</td>\n",
              "      <td>16</td>\n",
              "      <td>87</td>\n",
              "      <td>44</td>\n",
              "      <td>16</td>\n",
              "      <td>25</td>\n",
              "      <td>870</td>\n",
              "      <td>255</td>\n",
              "      <td>1</td>\n",
              "      <td>140</td>\n",
              "      <td>8</td>\n",
              "      <td>1</td>\n",
              "      <td>32</td>\n",
              "      <td>0</td>\n",
              "      <td>0</td>\n",
              "    </tr>\n",
              "    <tr>\n",
              "      <th>4999998</th>\n",
              "      <td>11008</td>\n",
              "      <td>9.75</td>\n",
              "      <td>0.0</td>\n",
              "      <td>87</td>\n",
              "      <td>1</td>\n",
              "      <td>4.124</td>\n",
              "      <td>14</td>\n",
              "      <td>-3.400</td>\n",
              "      <td>4.140</td>\n",
              "      <td>0.016</td>\n",
              "      <td>445</td>\n",
              "      <td>16</td>\n",
              "      <td>74</td>\n",
              "      <td>44</td>\n",
              "      <td>16</td>\n",
              "      <td>25</td>\n",
              "      <td>870</td>\n",
              "      <td>255</td>\n",
              "      <td>1</td>\n",
              "      <td>140</td>\n",
              "      <td>8</td>\n",
              "      <td>1</td>\n",
              "      <td>32</td>\n",
              "      <td>0</td>\n",
              "      <td>0</td>\n",
              "    </tr>\n",
              "    <tr>\n",
              "      <th>4999999</th>\n",
              "      <td>11008</td>\n",
              "      <td>9.75</td>\n",
              "      <td>0.0</td>\n",
              "      <td>87</td>\n",
              "      <td>1</td>\n",
              "      <td>4.123</td>\n",
              "      <td>14</td>\n",
              "      <td>-3.375</td>\n",
              "      <td>4.140</td>\n",
              "      <td>0.017</td>\n",
              "      <td>445</td>\n",
              "      <td>16</td>\n",
              "      <td>87</td>\n",
              "      <td>44</td>\n",
              "      <td>16</td>\n",
              "      <td>25</td>\n",
              "      <td>870</td>\n",
              "      <td>255</td>\n",
              "      <td>1</td>\n",
              "      <td>140</td>\n",
              "      <td>8</td>\n",
              "      <td>1</td>\n",
              "      <td>32</td>\n",
              "      <td>0</td>\n",
              "      <td>0</td>\n",
              "    </tr>\n",
              "  </tbody>\n",
              "</table>\n",
              "<p>5000000 rows × 25 columns</p>\n",
              "</div>"
            ],
            "text/plain": [
              "         odometer  ambient_temp  ...  fast_charge  trip_distance\n",
              "0           10619          6.50  ...            0              0\n",
              "1            9531          4.00  ...            0          -1088\n",
              "2            9531          4.00  ...            0              0\n",
              "3            9531          4.00  ...            0              0\n",
              "4            9531          4.00  ...            0              0\n",
              "...           ...           ...  ...          ...            ...\n",
              "4999995     11008          9.75  ...            0              0\n",
              "4999996     11008          9.75  ...            0              0\n",
              "4999997     11008          9.75  ...            0              0\n",
              "4999998     11008          9.75  ...            0              0\n",
              "4999999     11008          9.75  ...            0              0\n",
              "\n",
              "[5000000 rows x 25 columns]"
            ]
          },
          "metadata": {
            "tags": []
          },
          "execution_count": 17
        }
      ]
    },
    {
      "cell_type": "code",
      "metadata": {
        "id": "DcuaP998KWY7",
        "colab_type": "code",
        "outputId": "0250a14a-37f0-427b-ff11-4085cc3cc679",
        "colab": {
          "base_uri": "https://localhost:8080/",
          "height": 35
        }
      },
      "source": [
        "input_data.isnull().sum().sum()\n",
        "#input_data['imbalance_percent'].value_counts()"
      ],
      "execution_count": 18,
      "outputs": [
        {
          "output_type": "execute_result",
          "data": {
            "text/plain": [
              "0"
            ]
          },
          "metadata": {
            "tags": []
          },
          "execution_count": 18
        }
      ]
    },
    {
      "cell_type": "markdown",
      "metadata": {
        "id": "0teoDG7lyi5t",
        "colab_type": "text"
      },
      "source": [
        "### Test/Train Split of 20/80"
      ]
    },
    {
      "cell_type": "code",
      "metadata": {
        "id": "QKClGj7mKWY-",
        "colab_type": "code",
        "colab": {}
      },
      "source": [
        "X_train, X_test, y_train, y_test = train_test_split(input_data, output_data, test_size=0.2, random_state=0)"
      ],
      "execution_count": 0,
      "outputs": []
    },
    {
      "cell_type": "markdown",
      "metadata": {
        "id": "6KIErKHuyo5L",
        "colab_type": "text"
      },
      "source": [
        "### Applying Decision Tree Regression"
      ]
    },
    {
      "cell_type": "code",
      "metadata": {
        "id": "CpEE9LTgKWZE",
        "colab_type": "code",
        "colab": {}
      },
      "source": [
        "from sklearn.tree import DecisionTreeRegressor\n",
        "\n",
        "reg_tree = DecisionTreeRegressor()"
      ],
      "execution_count": 0,
      "outputs": []
    },
    {
      "cell_type": "code",
      "metadata": {
        "id": "DlYFZ4ltzGLm",
        "colab_type": "code",
        "colab": {}
      },
      "source": [
        ""
      ],
      "execution_count": 0,
      "outputs": []
    },
    {
      "cell_type": "code",
      "metadata": {
        "id": "nszK5d-tKWZI",
        "colab_type": "code",
        "colab": {}
      },
      "source": [
        "reg_tree.fit(X_train, y_train)\n",
        "reg_tree_pred = reg_tree.predict(X_test)"
      ],
      "execution_count": 0,
      "outputs": []
    },
    {
      "cell_type": "markdown",
      "metadata": {
        "id": "d8SEelxJzAcX",
        "colab_type": "text"
      },
      "source": [
        "### Evaluating Decision Tree Results"
      ]
    },
    {
      "cell_type": "code",
      "metadata": {
        "id": "lnfEll1Hts9P",
        "colab_type": "code",
        "outputId": "754cd885-c1ff-4086-bbb4-db89185f1c9a",
        "colab": {
          "base_uri": "https://localhost:8080/",
          "height": 35
        }
      },
      "source": [
        "from sklearn.model_selection import cross_val_score\n",
        "\n",
        "score = reg_tree.score(X_test, y_test)\n",
        "print(score)"
      ],
      "execution_count": 30,
      "outputs": [
        {
          "output_type": "stream",
          "text": [
            "0.9588930792850042\n"
          ],
          "name": "stdout"
        }
      ]
    },
    {
      "cell_type": "markdown",
      "metadata": {
        "id": "iyrdk7kTZyPA",
        "colab_type": "text"
      },
      "source": [
        "This score is coefficient of determination R<sup>2</sup>. The coefficient R<sup>2</sup> is defined as (1 - u/v), where u is the residual sum of squares (y_true - y_pred)<sup>2</sup> and v is the total sum of squares (y_true - y_true.mean()<sup>2</sup>. The best possible score is 1.0 and it can be negative (because the model can be arbitrarily worse)"
      ]
    },
    {
      "cell_type": "code",
      "metadata": {
        "id": "ELyA_--5coSJ",
        "colab_type": "code",
        "outputId": "606fc740-5f0b-4f48-e0b7-9463fae92036",
        "colab": {
          "base_uri": "https://localhost:8080/",
          "height": 35
        }
      },
      "source": [
        "# https://scikit-learn.org/stable/modules/model_evaluation.html\n",
        "from sklearn import metrics\n",
        "#reg_tree_pred.value_counts()\n",
        "#metrics.accuracy_score(y_test, reg_tree_pred)\n",
        "#metrics.f1_score(y_test, reg_tree_pred)\n",
        "mse = metrics.mean_squared_error(y_test, reg_tree_pred)\n",
        "print(mse)"
      ],
      "execution_count": 23,
      "outputs": [
        {
          "output_type": "stream",
          "text": [
            "0.21411672774444465\n"
          ],
          "name": "stdout"
        }
      ]
    },
    {
      "cell_type": "code",
      "metadata": {
        "id": "N5rAZ9AjxXMs",
        "colab_type": "code",
        "outputId": "7317ceb4-de98-4863-f766-5b72f2f3e693",
        "colab": {
          "base_uri": "https://localhost:8080/",
          "height": 72
        }
      },
      "source": [
        "from yellowbrick.regressor import PredictionError"
      ],
      "execution_count": 24,
      "outputs": [
        {
          "output_type": "stream",
          "text": [
            "/usr/local/lib/python3.6/dist-packages/sklearn/utils/deprecation.py:144: FutureWarning: The sklearn.metrics.classification module is  deprecated in version 0.22 and will be removed in version 0.24. The corresponding classes / functions should instead be imported from sklearn.metrics. Anything that cannot be imported from sklearn.metrics is now part of the private API.\n",
            "  warnings.warn(message, FutureWarning)\n"
          ],
          "name": "stderr"
        }
      ]
    },
    {
      "cell_type": "code",
      "metadata": {
        "id": "K143f-RXy0ZJ",
        "colab_type": "code",
        "outputId": "e3a3c95a-431a-4f26-99dc-dac34ac5c10f",
        "colab": {
          "base_uri": "https://localhost:8080/",
          "height": 376
        }
      },
      "source": [
        "fig, ax = plt.subplots()\n",
        "ax.scatter(y_test, reg_tree_pred)\n",
        "ax.set_title('Predicted vs Actual SOH')\n",
        "ax.plot([y_test.min(), y_test.max()], [y_test.min(), y_test.max()], 'k-', lw=3)\n",
        "ax.set_xlabel('Actual Test Value of SOH')\n",
        "ax.set_ylabel('Predicted SOH')\n",
        "plt.show()"
      ],
      "execution_count": 25,
      "outputs": [
        {
          "output_type": "display_data",
          "data": {
            "image/png": "[encoded data removed]",
            "text/plain": [
              "<Figure size 576x396 with 1 Axes>"
            ]
          },
          "metadata": {
            "tags": []
          }
        }
      ]
    },
    {
      "cell_type": "code",
      "metadata": {
        "id": "i9eSQ-1XbrgO",
        "colab_type": "code",
        "outputId": "49e9b872-752a-4d9d-9df3-392536677088",
        "colab": {
          "base_uri": "https://localhost:8080/",
          "height": 55
        }
      },
      "source": [
        "#def f(x):\n",
        "#    x = x.ravel()\n",
        "#   return np.exp(-x ** 2) + 1.5 * np.exp(-(x - 2) ** 2)\n",
        "\n",
        "'''\n",
        "plt.figure(figsize=(10, 6))\n",
        "#plt.plot(X_test, f(X_test), \"b\")\n",
        "plt.scatter(X_test, y_test, c=\"b\", s=20)\n",
        "plt.plot(X_test, reg_tree_pred, \"g\", lw=2)\n",
        "plt.xlim([-5, 5])\n",
        "#plt.title(\"Decision tree regressor, MSE = %.2f\" % (np.sum((y_test - reg_tree_pred) ** 2) / n_test))\n",
        "plt.show()\n",
        "'''"
      ],
      "execution_count": 26,
      "outputs": [
        {
          "output_type": "execute_result",
          "data": {
            "text/plain": [
              "'\\nplt.figure(figsize=(10, 6))\\n#plt.plot(X_test, f(X_test), \"b\")\\nplt.scatter(X_test, y_test, c=\"b\", s=20)\\nplt.plot(X_test, reg_tree_pred, \"g\", lw=2)\\nplt.xlim([-5, 5])\\n#plt.title(\"Decision tree regressor, MSE = %.2f\" % (np.sum((y_test - reg_tree_pred) ** 2) / n_test))\\nplt.show()\\n'"
            ]
          },
          "metadata": {
            "tags": []
          },
          "execution_count": 26
        }
      ]
    },
    {
      "cell_type": "code",
      "metadata": {
        "id": "iylWDZOKqM73",
        "colab_type": "code",
        "outputId": "9a36dde7-9094-4ce7-c416-4befe43413c8",
        "colab": {
          "base_uri": "https://localhost:8080/",
          "height": 297
        }
      },
      "source": [
        "#bat_data['soh'].value_counts()\n",
        "sns.distplot(bat_data['soh'])"
      ],
      "execution_count": 0,
      "outputs": [
        {
          "output_type": "execute_result",
          "data": {
            "text/plain": [
              "<matplotlib.axes._subplots.AxesSubplot at 0x7f1257af1748>"
            ]
          },
          "metadata": {
            "tags": []
          },
          "execution_count": 8
        },
        {
          "output_type": "display_data",
          "data": {
            "image/png": "[encoded data removed]",
            "text/plain": [
              "<Figure size 432x288 with 1 Axes>"
            ]
          },
          "metadata": {
            "tags": []
          }
        }
      ]
    },
    {
      "cell_type": "code",
      "metadata": {
        "id": "J09YM2lNNBH8",
        "colab_type": "code",
        "outputId": "00a0edf1-3814-430c-e4df-8b41bdda3595",
        "colab": {
          "base_uri": "https://localhost:8080/",
          "height": 297
        }
      },
      "source": [
        "sns.distplot(bat_data['imbalance'])"
      ],
      "execution_count": 0,
      "outputs": [
        {
          "output_type": "execute_result",
          "data": {
            "text/plain": [
              "<matplotlib.axes._subplots.AxesSubplot at 0x7f6fcffde080>"
            ]
          },
          "metadata": {
            "tags": []
          },
          "execution_count": 6
        },
        {
          "output_type": "display_data",
          "data": {
            "image/png": "[encoded data removed]",
            "text/plain": [
              "<Figure size 432x288 with 1 Axes>"
            ]
          },
          "metadata": {
            "tags": []
          }
        }
      ]
    },
    {
      "cell_type": "code",
      "metadata": {
        "id": "Ni34Ex4gKWZN",
        "colab_type": "code",
        "colab": {}
      },
      "source": [
        "#regressor = LinearRegression()  \n",
        "#regressor.fit(X_train, y_train)"
      ],
      "execution_count": 0,
      "outputs": []
    },
    {
      "cell_type": "code",
      "metadata": {
        "id": "uo5RwMQOKWZQ",
        "colab_type": "code",
        "colab": {}
      },
      "source": [
        "#sns.countplot(bat_data['powermode'])"
      ],
      "execution_count": 0,
      "outputs": []
    },
    {
      "cell_type": "code",
      "metadata": {
        "id": "XgYigwEAKWZX",
        "colab_type": "code",
        "colab": {}
      },
      "source": [
        "dill.dump_session('dec_tree_complete_data.db')"
      ],
      "execution_count": 0,
      "outputs": []
    },
    {
      "cell_type": "code",
      "metadata": {
        "id": "t5PrgTh-NMn7",
        "colab_type": "code",
        "colab": {}
      },
      "source": [
        ""
      ],
      "execution_count": 0,
      "outputs": []
    }
  ]
}
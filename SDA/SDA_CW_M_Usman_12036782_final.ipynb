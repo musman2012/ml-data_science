{
  "nbformat": 4,
  "nbformat_minor": 0,
  "metadata": {
    "kernelspec": {
      "name": "python3",
      "display_name": "Python 3"
    },
    "language_info": {
      "codemirror_mode": {
        "name": "ipython",
        "version": 3
      },
      "file_extension": ".py",
      "mimetype": "text/x-python",
      "name": "python",
      "nbconvert_exporter": "python",
      "pygments_lexer": "ipython3",
      "version": "3.7.6"
    },
    "colab": {
      "name": "SDA_CW_M_Usman_12036782.ipynb",
      "provenance": [],
      "collapsed_sections": [],
      "toc_visible": true,
      "include_colab_link": true
    },
    "accelerator": "GPU"
  },
  "cells": [
    {
      "cell_type": "markdown",
      "metadata": {
        "id": "view-in-github",
        "colab_type": "text"
      },
      "source": [
        "<a href=\"https://colab.research.google.com/github/musman2012/ml-data_science/blob/master/SDA/SDA_CW_M_Usman_12036782_final.ipynb\" target=\"_parent\"><img src=\"https://colab.research.google.com/assets/colab-badge.svg\" alt=\"Open In Colab\"/></a>"
      ]
    },
    {
      "cell_type": "markdown",
      "metadata": {
        "id": "oy5SxiRGlKWv",
        "colab_type": "text"
      },
      "source": [
        "# <center> Bayesian Linear regression of Mathematics Students Data </center>"
      ]
    },
    {
      "cell_type": "markdown",
      "metadata": {
        "id": "FAkiNqqJlKWx",
        "colab_type": "text"
      },
      "source": [
        "## Abstract\n",
        "Bayesian Linear Regression is one of the forms of Linear Regression which is used to make predictions on the unseen data after training the model on a given training data. This report contains a complete data analysis cycle on Students' Grades' data which was gathered from teh UCI data repository. Starting from the data exploration and statistical details of the data, features' distributions were found using Python libraries. After this, features' correlations with the final grade (named as G3) were computed to see find those which are highly correlated with grade. Finally, with the goal to predict final grades of a student, a Bayes Linear Regression model was implemented before evaluating and testing it against the testing data subset. Evaluation of this implemeneted model against the others, with MAE and RSME as the evaluation metrics, revealed that the model is <TO BE FILLED>\n",
        "\n",
        "<summarising the whole report>"
      ]
    },
    {
      "cell_type": "markdown",
      "metadata": {
        "id": "XLGIjnfQlKWy",
        "colab_type": "text"
      },
      "source": [
        "## Introduction\n",
        "Machine Learning has become one of the widely used techniques in the world to solve problems ranging from disease diagnostics to security surveillance. This diversity of problems has motivated the researchers to devise various techniques within this area, helping the humanity in critical decision making using predictions and classifications of data points. One of such technique is Linear Regression in which relationship between inputs and outputs is formulated that can later be used for predicting unseen inputs. \n",
        "\n",
        "$$E(y) = \\sum_{a=1}^m x_{a} b_{a} + \\beta_{0}$$\n",
        "\n",
        "One form of linear regression is Bayesian Linear Regression which makes use of statistical data analysis and Bayes theorem. The Bayesian Linear Regression can be described as follows:\n",
        "\n",
        "$$y \\sim N(\\beta^T X, \\sigma^2 I)$$\n",
        "\n",
        "This describes the output as a normal distribution dependent on the mean (β) and variance (σ2). The major advantages of this approach and differences from the previous approaches are that (1) it provides the flexibility to quantify uncertainty in the estimations, (2) prior knowledge is included while finding out the posterior distributions. To illustrate, as the goal is to find posterior probability against our input, it is usually described as:\n",
        "\n",
        "$$ Posterior=  (Likelihood \\times Prior) / Evidence $$\n",
        "\n",
        "### Dataset Explanation\n",
        "For this exercise, statistical analysis and Bayes Linear Regression would be applied on the students’ grades dataset collected from the UCI data repository. Once the data is analysed and regression is applied, the implemented model would be evaluated against some other predictive models to rate it against other approaches.\n"
      ]
    },
    {
      "cell_type": "markdown",
      "metadata": {
        "id": "q_KsrOQAlKWz",
        "colab_type": "text"
      },
      "source": [
        "\n",
        "## Main Results"
      ]
    },
    {
      "cell_type": "markdown",
      "metadata": {
        "id": "g356FOItxplP",
        "colab_type": "text"
      },
      "source": [
        "This section contains the main work done for implementing the model."
      ]
    },
    {
      "cell_type": "code",
      "metadata": {
        "id": "sfl1urRAlKWz",
        "colab_type": "code",
        "colab": {},
        "cellView": "form"
      },
      "source": [
        "#@title\n",
        "## Code and docs written by Muhammad Usman (musman14@student.bradford.ac.uk)\n",
        "## Importing the required libraries to be used later\n",
        "\n",
        "import pandas as pd\n",
        "import numpy as np\n",
        "import matplotlib.pyplot as plt\n",
        "%matplotlib inline\n",
        "import seaborn as sns\n",
        "import os"
      ],
      "execution_count": 0,
      "outputs": []
    },
    {
      "cell_type": "code",
      "metadata": {
        "id": "t4dLk4zk7g85",
        "colab_type": "code",
        "colab": {},
        "cellView": "form"
      },
      "source": [
        "#@title\n",
        "import matplotlib"
      ],
      "execution_count": 0,
      "outputs": []
    },
    {
      "cell_type": "code",
      "metadata": {
        "id": "GaYux6WylKW6",
        "colab_type": "code",
        "colab": {},
        "cellView": "form"
      },
      "source": [
        "#@title\n",
        "\n",
        "from sklearn.model_selection import train_test_split \n",
        "from sklearn.linear_model import LinearRegression, BayesianRidge\n",
        "from sklearn import metrics\n",
        "import pymc3"
      ],
      "execution_count": 0,
      "outputs": []
    },
    {
      "cell_type": "code",
      "metadata": {
        "id": "DveJ6faiyGEI",
        "colab_type": "code",
        "colab": {},
        "cellView": "form"
      },
      "source": [
        "#@title\n",
        "!pip install git+https://github.com/pymc-devs/pymc3\n",
        "import pymc3"
      ],
      "execution_count": 0,
      "outputs": []
    },
    {
      "cell_type": "markdown",
      "metadata": {
        "id": "13UUtaswlKXF",
        "colab_type": "text"
      },
      "source": [
        "### (a) Data Reading and Examing"
      ]
    },
    {
      "cell_type": "code",
      "metadata": {
        "id": "3QPDsQYAIn2m",
        "colab_type": "code",
        "colab": {}
      },
      "source": [
        "import os\n",
        "from google.colab import drive\n",
        "drive.mount('/content/drive')   ## mounting to google drive for data access which is already placed there\n",
        "os.chdir(\"/content/drive/My Drive/Colab Notebooks\")  ## changing the current working directory"
      ],
      "execution_count": 0,
      "outputs": []
    },
    {
      "cell_type": "code",
      "metadata": {
        "id": "kSTqKWSNIW2N",
        "colab_type": "code",
        "colab": {}
      },
      "source": [
        "import dill\n",
        "dill.load_session('sd_cw_env.db')  ## for continuing the work where it was left previously"
      ],
      "execution_count": 0,
      "outputs": []
    },
    {
      "cell_type": "code",
      "metadata": {
        "id": "KbR4Nn0tlKXG",
        "colab_type": "code",
        "colab": {}
      },
      "source": [
        "FILE_PATH = \"student-mat.csv\"\n",
        "st_data = pd.read_csv(FILE_PATH, sep=';', error_bad_lines = False)    # reading the data from csv file with ; as sep\n",
        "st_data.head()"
      ],
      "execution_count": 0,
      "outputs": []
    },
    {
      "cell_type": "code",
      "metadata": {
        "id": "VLyxgLAOlKXN",
        "colab_type": "code",
        "colab": {}
      },
      "source": [
        "st_data.shape"
      ],
      "execution_count": 0,
      "outputs": []
    },
    {
      "cell_type": "markdown",
      "metadata": {
        "id": "E9vyINna7ODq",
        "colab_type": "text"
      },
      "source": [
        "This shows the dimensions of our data, which is 395 x 33. In this data, we have 33 columns (features) and 395 rows (records)."
      ]
    },
    {
      "cell_type": "code",
      "metadata": {
        "id": "84Ww-n-vlKXQ",
        "colab_type": "code",
        "colab": {}
      },
      "source": [
        "print(st_data.info())"
      ],
      "execution_count": 0,
      "outputs": []
    },
    {
      "cell_type": "markdown",
      "metadata": {
        "id": "FI0NXZRw7kW4",
        "colab_type": "text"
      },
      "source": [
        "This table shows that none of the column has any missing value. To get a better overview of what kind of values each feature has, value_counts() method was used which provided the following output:\n"
      ]
    },
    {
      "cell_type": "code",
      "metadata": {
        "id": "5DRscpK6lKXT",
        "colab_type": "code",
        "colab": {}
      },
      "source": [
        "for col in st_data.columns:\n",
        "    print(\"Values Overview of\", col)\n",
        "    print(st_data[col].value_counts(normalize=True))"
      ],
      "execution_count": 0,
      "outputs": []
    },
    {
      "cell_type": "markdown",
      "metadata": {
        "id": "ih4eRReZlKXa",
        "colab_type": "text"
      },
      "source": [
        "### (b) Statistical Details of the Data"
      ]
    },
    {
      "cell_type": "markdown",
      "metadata": {
        "id": "ssfHGvGV7ys6",
        "colab_type": "text"
      },
      "source": [
        "To get an overview of statistical details in all the data features, describe() method was used and the detailed results can be seen in the following cell:"
      ]
    },
    {
      "cell_type": "code",
      "metadata": {
        "scrolled": false,
        "id": "Zz7kkFdElKXc",
        "colab_type": "code",
        "colab": {}
      },
      "source": [
        "st_data.describe()"
      ],
      "execution_count": 0,
      "outputs": []
    },
    {
      "cell_type": "markdown",
      "metadata": {
        "id": "6tr8z-owlKXf",
        "colab_type": "text"
      },
      "source": [
        "The above box shows statistical details including Mean, Percentile, Standard Deviation (std), and Min/Max of each of the numeric feature present in our data."
      ]
    },
    {
      "cell_type": "markdown",
      "metadata": {
        "id": "XgQoFosUlKXg",
        "colab_type": "text"
      },
      "source": [
        "### (c) Distributions of Variables  {Need to Confirm If These are Correct or Not}"
      ]
    },
    {
      "cell_type": "markdown",
      "metadata": {
        "id": "2ZCOd4b-lKXh",
        "colab_type": "text"
      },
      "source": [
        "#### Final Grades Against Locations"
      ]
    },
    {
      "cell_type": "code",
      "metadata": {
        "id": "8saMmOaFlKXh",
        "colab_type": "code",
        "colab": {}
      },
      "source": [
        "sns.kdeplot(st_data.loc[st_data['address'] == 'U', 'G3'], label = 'Urban', shade = True)\n",
        "sns.kdeplot(st_data.loc[st_data['address'] == 'R', 'G3'], label = 'Rural', shade = True)\n",
        "plt.xlabel('Final Grades against Locations'); plt.ylabel('Density'); plt.title('Density Plot of Final Grades by Location');"
      ],
      "execution_count": 0,
      "outputs": []
    },
    {
      "cell_type": "code",
      "metadata": {
        "id": "eEFgIbRBlKXk",
        "colab_type": "code",
        "colab": {}
      },
      "source": [
        "sns.kdeplot(st_data.loc[st_data['guardian'] == 'father', 'G3'], label = 'Father', shade = True)\n",
        "sns.kdeplot(st_data.loc[st_data['guardian'] == 'mother', 'G3'], label = 'Mother', shade = True)\n",
        "sns.kdeplot(st_data.loc[st_data['guardian'] == 'other', 'G3'], label = 'Other', shade = True)\n",
        "plt.xlabel('Grade'); plt.ylabel('Density'); plt.title('Density Plot of Final Grades by Guardian');"
      ],
      "execution_count": 0,
      "outputs": []
    },
    {
      "cell_type": "markdown",
      "metadata": {
        "id": "ZImUDC4ElKXq",
        "colab_type": "text"
      },
      "source": [
        "#### Age"
      ]
    },
    {
      "cell_type": "code",
      "metadata": {
        "id": "0IaYEgW1lKXu",
        "colab_type": "code",
        "colab": {}
      },
      "source": [
        "g = sns.distplot(st_data.age, hist=False);\n",
        "g.set_title(\"Students Ages\");"
      ],
      "execution_count": 0,
      "outputs": []
    },
    {
      "cell_type": "markdown",
      "metadata": {
        "id": "coKTFEW8lKXy",
        "colab_type": "text"
      },
      "source": [
        "#### Absences"
      ]
    },
    {
      "cell_type": "code",
      "metadata": {
        "id": "0ZizF0yllKXy",
        "colab_type": "code",
        "colab": {}
      },
      "source": [
        "g = sns.distplot(st_data.absences, hist=False);\n",
        "g.set_title(\"Students Absences\");"
      ],
      "execution_count": 0,
      "outputs": []
    },
    {
      "cell_type": "markdown",
      "metadata": {
        "id": "JAjB_sJOlKX1",
        "colab_type": "text"
      },
      "source": [
        "#### Travel Time (traveltime)"
      ]
    },
    {
      "cell_type": "code",
      "metadata": {
        "id": "YipX5H6klKX1",
        "colab_type": "code",
        "colab": {}
      },
      "source": [
        "g = sns.distplot(st_data.traveltime, hist=False);\n",
        "g.set(xticklabels=['0','<15 mins', '15-30 mins', '30-60 mins', '60 mins<']);\n",
        "g.set_title(\"Students' Travel Time\");"
      ],
      "execution_count": 0,
      "outputs": []
    },
    {
      "cell_type": "markdown",
      "metadata": {
        "id": "RBLCO4rmlKX4",
        "colab_type": "text"
      },
      "source": [
        "#### Study Time (studytime)"
      ]
    },
    {
      "cell_type": "code",
      "metadata": {
        "id": "o_6fJBSglKX4",
        "colab_type": "code",
        "colab": {}
      },
      "source": [
        "g = sns.distplot(st_data.studytime, hist=False, rug=True);\n",
        "g.set(xticklabels=['0','<2 Hours', '2-5 Hours', '5-10 Hours', '10 Hours<']);\n",
        "g.set_title(\"Students' Study Time\");"
      ],
      "execution_count": 0,
      "outputs": []
    },
    {
      "cell_type": "markdown",
      "metadata": {
        "id": "EU-H5D-AlKX7",
        "colab_type": "text"
      },
      "source": [
        "#### Number of Class Failures (failures)"
      ]
    },
    {
      "cell_type": "code",
      "metadata": {
        "id": "Qm7c85r7lKX8",
        "colab_type": "code",
        "colab": {}
      },
      "source": [
        "g = sns.kdeplot(st_data['failures'], bw=0.3);\n",
        "g.set_title(\"Number of past class Failures\");"
      ],
      "execution_count": 0,
      "outputs": []
    },
    {
      "cell_type": "markdown",
      "metadata": {
        "id": "aJ1FiEhnlKYA",
        "colab_type": "text"
      },
      "source": [
        "#### Quality of family relationships (famrel)"
      ]
    },
    {
      "cell_type": "code",
      "metadata": {
        "id": "zGiUIuKmlKYA",
        "colab_type": "code",
        "colab": {}
      },
      "source": [
        "g = sns.distplot(st_data.famrel, hist=False, rug=True);\n",
        "g.set(xticklabels=['Pass','Very Bad','Bad', 'Normal', 'Good', 'Excellent']);\n",
        "g.set_title(\"Students' Quality of Relationship\");"
      ],
      "execution_count": 0,
      "outputs": []
    },
    {
      "cell_type": "markdown",
      "metadata": {
        "id": "7UN4KMI1lKYE",
        "colab_type": "text"
      },
      "source": [
        "#### Free time after school (freetime)"
      ]
    },
    {
      "cell_type": "code",
      "metadata": {
        "id": "9YEPvS1QlKYJ",
        "colab_type": "code",
        "colab": {}
      },
      "source": [
        "g = sns.distplot(st_data.freetime, hist=False, rug=True);\n",
        "g.set(xticklabels=['Pass','Very Low','Low', 'Normal', 'High', 'Very High']);\n",
        "g.set_title(\"Students' Free Time After School\");"
      ],
      "execution_count": 0,
      "outputs": []
    },
    {
      "cell_type": "markdown",
      "metadata": {
        "id": "THalav8ilKYN",
        "colab_type": "text"
      },
      "source": [
        "#### Going out (goout)"
      ]
    },
    {
      "cell_type": "code",
      "metadata": {
        "id": "ApRYqvKglKYN",
        "colab_type": "code",
        "colab": {}
      },
      "source": [
        "g = sns.distplot(st_data.goout, hist=False, rug=True);\n",
        "g.set(xticklabels=['Pass','Zero','Very Low','Low', 'Normal', 'High', 'Very High']);\n",
        "g.set_title(\"Students' Going Out\");"
      ],
      "execution_count": 0,
      "outputs": []
    },
    {
      "cell_type": "markdown",
      "metadata": {
        "id": "MxRKXyYNlKYQ",
        "colab_type": "text"
      },
      "source": [
        "#### Workday Alcohol Consumption"
      ]
    },
    {
      "cell_type": "code",
      "metadata": {
        "id": "WuWcq3yTlKYQ",
        "colab_type": "code",
        "colab": {}
      },
      "source": [
        "g = sns.distplot(st_data.Dalc, hist=False, rug=True);\n",
        "g.set(xticklabels=['Pass','Very Low','Low', 'Normal', 'High', 'Very High']);\n",
        "g.set_title(\"Students' Workday Alcohlic Consumption\");"
      ],
      "execution_count": 0,
      "outputs": []
    },
    {
      "cell_type": "markdown",
      "metadata": {
        "id": "n8jcV6INlKYV",
        "colab_type": "text"
      },
      "source": [
        "#### Weekend Alcohol Consumption"
      ]
    },
    {
      "cell_type": "code",
      "metadata": {
        "id": "JTVPicGelKYV",
        "colab_type": "code",
        "colab": {}
      },
      "source": [
        "g = sns.distplot(st_data.Walc, hist=False, rug=True);\n",
        "g.set(xticklabels=['Pass','Zero','Very Low','Low', 'Normal', 'High', 'Very High']);\n",
        "g.set_title(\"Students' Weekend Alcohlic Consumption\");"
      ],
      "execution_count": 0,
      "outputs": []
    },
    {
      "cell_type": "markdown",
      "metadata": {
        "id": "aiR2tBtKlKYX",
        "colab_type": "text"
      },
      "source": [
        "#### Student Health"
      ]
    },
    {
      "cell_type": "code",
      "metadata": {
        "id": "-1RvFoYZlKYY",
        "colab_type": "code",
        "colab": {}
      },
      "source": [
        "g = sns.distplot(st_data.health, hist=False, rug=True);\n",
        "g.set(xticklabels=['Pass','Zero','Very Low','Low', 'Normal', 'High', 'Very High']);\n",
        "g.set_title(\"Students' Health\");"
      ],
      "execution_count": 0,
      "outputs": []
    },
    {
      "cell_type": "markdown",
      "metadata": {
        "id": "jZ2zjzFilKYa",
        "colab_type": "text"
      },
      "source": [
        "#### Student Grades (G1,G2,G3)"
      ]
    },
    {
      "cell_type": "code",
      "metadata": {
        "id": "4z66wJ1RlKYb",
        "colab_type": "code",
        "colab": {}
      },
      "source": [
        "labels = ['First Period', 'Second Period', 'Final Grade']\n",
        "for i in range(30,33):\n",
        "    g = sns.distplot(st_data.iloc[:,i], hist=False, label=labels[i-30])\n",
        "g.set_title(\"Student Grades\");"
      ],
      "execution_count": 0,
      "outputs": []
    },
    {
      "cell_type": "markdown",
      "metadata": {
        "id": "uZ2kBP1AlKYh",
        "colab_type": "text"
      },
      "source": [
        "### (d)  Features correlations with the Final Grade"
      ]
    },
    {
      "cell_type": "markdown",
      "metadata": {
        "id": "r4BUsq87lKYh",
        "colab_type": "text"
      },
      "source": [
        "##### Handling Categorical Variables/Features"
      ]
    },
    {
      "cell_type": "code",
      "metadata": {
        "scrolled": true,
        "id": "fgOzFoHrlKYh",
        "colab_type": "code",
        "colab": {}
      },
      "source": [
        "#corr_data = st_data.copy()\n",
        "#corr_data = corr_data.drop(columns=['G1', 'G2'])\n",
        "#categorical_vars = corr_data.select_dtypes('object') # selecing all the categorical variables/features\n",
        "#encoded_data = pd.get_dummies(categorical_vars) # categorical variables encoding using Pandas https://pandas.pydata.org/pandas-docs/stable/reference/api/pandas.get_dummies.html\n",
        "\n",
        "#correlations = encoded_data.corrwith(st_data['G3'])"
      ],
      "execution_count": 0,
      "outputs": []
    },
    {
      "cell_type": "code",
      "metadata": {
        "id": "EywiysTylKYj",
        "colab_type": "code",
        "colab": {}
      },
      "source": [
        "corr_data_new = st_data.copy()\n",
        "corr_data_new = corr_data_new.drop(columns=['G1', 'G2']) # removing Grades G1, G3 from the data\n",
        "#categorical_vars = corr_data.select_dtypes('object') # selecing all the categorical variables/features\n",
        "encoded_data = pd.get_dummies(corr_data_new) # categorical variables encoding using Pandas https://pandas.pydata.org/pandas-docs/stable/reference/api/pandas.get_dummies.html\n",
        "output = encoded_data['G3']   # separating the output variable from the remaining data\n",
        "encoded_data.drop(columns='G3') # removing target variable from the inputs\n",
        "correlations_new = encoded_data.corrwith(st_data['G3']) # calculating correlation of the complete input dataframe with Grades\n",
        "correlations_new"
      ],
      "execution_count": 0,
      "outputs": []
    },
    {
      "cell_type": "code",
      "metadata": {
        "id": "sFE3t7WKlKYm",
        "colab_type": "code",
        "colab": {}
      },
      "source": [
        "#correlations = correlations.append(corr_data.corrwith(st_data['G3']))    # finding correlations against the final grade (G3)\n",
        "#correlations\n",
        "#complete_encoded_data =  pd.concat([categorical_vars, df2], axis=1)"
      ],
      "execution_count": 0,
      "outputs": []
    },
    {
      "cell_type": "markdown",
      "metadata": {
        "id": "8ilUyO93lKYo",
        "colab_type": "text"
      },
      "source": [
        "### (e) N Most correlated variables with the final score"
      ]
    },
    {
      "cell_type": "markdown",
      "metadata": {
        "id": "o42N3ulJlKYo",
        "colab_type": "text"
      },
      "source": [
        "It can be seen from the correlation values that when categorical variables having binary values where encoded, both of the newly created features (yes,no) have the same correlation with our target variable 'G3'. So it was decided to remove one of such features from the data before finding N correlated variables."
      ]
    },
    {
      "cell_type": "code",
      "metadata": {
        "id": "m3ivjHTqlKYp",
        "colab_type": "code",
        "colab": {}
      },
      "source": [
        "## removing binary variables with duplicate correlation values\n",
        "encoded_cols_to_remove = ['higher_no', 'schoolsup_no', 'school_MS', 'romantic_no', 'internet_no', 'nursery_no', 'activities_no', 'paid_no', 'famsup_no', 'sex_F']\n",
        "correlations_new = correlations_new.drop(labels=encoded_cols_to_remove) # removing correlations of duplicate correlation values\n",
        "encoded_data = encoded_data.drop(columns=encoded_cols_to_remove)"
      ],
      "execution_count": 0,
      "outputs": []
    },
    {
      "cell_type": "code",
      "metadata": {
        "id": "GglRT-51lKYz",
        "colab_type": "code",
        "colab": {}
      },
      "source": [
        "sorted_corrs_new = correlations_new.abs().sort_values(ascending = False)   # sorting the ABSOLUTE values correlations"
      ],
      "execution_count": 0,
      "outputs": []
    },
    {
      "cell_type": "code",
      "metadata": {
        "id": "LvxLZhAKlKZB",
        "colab_type": "code",
        "colab": {}
      },
      "source": [
        "# function n_corr_vals will return N features most correlated with final grade\n",
        "# Need to see if we have to keep higher_no and Fedu? As the other one is already there.\n",
        "def n_corr_vals(n):\n",
        "    return sorted_corrs_new[1:n+1]\n",
        "\n",
        "corr_vars = n_corr_vals(10)\n",
        "corr_vars.index"
      ],
      "execution_count": 0,
      "outputs": []
    },
    {
      "cell_type": "markdown",
      "metadata": {
        "id": "fAMsLN76lKbh",
        "colab_type": "text"
      },
      "source": [
        "## <center>  Task 2 – Bayesian Linear regression using Python </center>\n"
      ]
    },
    {
      "cell_type": "markdown",
      "metadata": {
        "id": "ocFbH1gM-JhU",
        "colab_type": "text"
      },
      "source": [
        "## (a) Function to evaluate several statistical models "
      ]
    },
    {
      "cell_type": "code",
      "metadata": {
        "id": "9RyRwlg9lKcP",
        "colab_type": "code",
        "colab": {}
      },
      "source": [
        "from sklearn.linear_model import LinearRegression\n",
        "from sklearn.linear_model import ElasticNet\n",
        "from sklearn.ensemble import RandomForestRegressor\n",
        "from sklearn.ensemble import ExtraTreesRegressor\n",
        "from sklearn.ensemble import GradientBoostingRegressor\n",
        "from sklearn.svm import SVR"
      ],
      "execution_count": 0,
      "outputs": []
    },
    {
      "cell_type": "code",
      "metadata": {
        "id": "k0hWwLcmlKbq",
        "colab_type": "code",
        "colab": {}
      },
      "source": [
        "### this function is a helper function for the main task in this subtask (a). It will encode the data and will split it into 75/25 ratio.\n",
        "def create_test_train_data():\n",
        "    global encoded_data, train_g3, test_g3\n",
        "    filter_vars = []\n",
        "    for iterator in corr_vars.index:  ## this will iterate through the indices of highly correlated features with the final grades\n",
        "        filter_vars.append(iterator)\n",
        "    # Now this filter_vars list contains only the names of those 10 features which are highly correlated with the final grade\n",
        "    encoded_data = encoded_data[filter_vars] # selecting only highly correlated features\n",
        "    encoded_data = pd.concat([encoded_data, output], axis=1) # adding the target variable to the dataframe\n",
        "    label = encoded_data['G3']  # setting the target in data\n",
        "\n",
        "    ## now we will split this filtered data into 75% train and 25% test portion\n",
        "    X_train, X_test, y_train, y_test = train_test_split(encoded_data, label, \n",
        "                                                            test_size = 0.25,\n",
        "                                                            random_state=42)\n",
        "    X_train.shape\n",
        "    train_g3 = pd.DataFrame(X_train['G3']) ## taking out the target variables from the test and train datasets to be used later\n",
        "    test_g3 = pd.DataFrame(X_test['G3'])\n",
        "    X_train = X_train.drop(columns='G3')\n",
        "    X_test = X_test.drop(columns='G3')\n",
        "    return X_train, X_test, y_train, y_test ## returning the data splits"
      ],
      "execution_count": 0,
      "outputs": []
    },
    {
      "cell_type": "code",
      "metadata": {
        "id": "YJket122lKcS",
        "colab_type": "code",
        "colab": {}
      },
      "source": [
        "#X_train, X_test, y_train, y_test = train_test_split(input_data, output_data, test_size=0.2, random_state=0)\n",
        "\n",
        "def ret_mae_rmse(pred_y, y_test):\n",
        "    mae = np.mean(abs(pred_y - y_test))    # calculating MAE\n",
        "    rmse = np.sqrt(np.mean((pred_y - y_test) ** 2))\n",
        "    return mae, rmse\n",
        "\n",
        "def evaluate_model(model, X_train, y_train, X_test):\n",
        "    model.fit(X_train, y_train)\n",
        "    pred_y = model.predict(X_test)\n",
        "    model_mae, model_rmse = ret_mae_rmse(pred_y, y_test)\n",
        "    return [model_mae, model_rmse]\n"
      ],
      "execution_count": 0,
      "outputs": []
    },
    {
      "cell_type": "markdown",
      "metadata": {
        "id": "51RSWJINANkV",
        "colab_type": "text"
      },
      "source": [
        "The following function is the one which is being demanded in part a of the project."
      ]
    },
    {
      "cell_type": "code",
      "metadata": {
        "id": "lM1UUrKnlKcY",
        "colab_type": "code",
        "colab": {}
      },
      "source": [
        "X_train, X_test, y_train, y_test = create_test_train_data()\n",
        "\n",
        "## this function will iterate through multiple statisitcal models by training the model on training dataset and testing it on the unseen data (a)\n",
        "def iterate_models():\n",
        "    model_name_list = [#'Linear Regression', \n",
        "                       'ElasticNet Regression',\n",
        "                      'Random Forest', 'Extra Trees', 'SVM',\n",
        "                       'Gradient Boosted']\n",
        "    \n",
        "    # Instantiate the models\n",
        "    #X_train, X_test, y_train, y_test = create_test_train_data()\n",
        "    \n",
        "    #model1 = LinearRegression()\n",
        "    model2 = ElasticNet(alpha=1.0, l1_ratio=0.5)\n",
        "    model3 = RandomForestRegressor(n_estimators=50)\n",
        "    model4 = ExtraTreesRegressor(n_estimators=50)\n",
        "    model5 = SVR(kernel='rbf', degree=3, C=1.0, gamma='auto')\n",
        "    model6 = GradientBoostingRegressor(n_estimators=20)\n",
        "    \n",
        "    \n",
        "    model_results = pd.DataFrame(columns=['mae', 'rmse'], index = model_name_list)\n",
        "    \n",
        "    for i, model_name in enumerate([model2,model3,model4,model5,model6]):\n",
        "        model_results.loc[model_name_list[i], :] = evaluate_model(model_name, X_train, y_train, X_test)\n",
        "    \n",
        "    return model_results\n"
      ],
      "execution_count": 0,
      "outputs": []
    },
    {
      "cell_type": "markdown",
      "metadata": {
        "id": "b0F5hon0lKck",
        "colab_type": "text"
      },
      "source": [
        "### (b) Implementing Bayes Linear Regression"
      ]
    },
    {
      "cell_type": "code",
      "metadata": {
        "id": "csctnxT9lKcy",
        "colab_type": "code",
        "colab": {}
      },
      "source": [
        "X_train =  pd.concat([X_train, train_g3], axis=1) ## adding the target variables back to test and train datasets\n",
        "X_test = pd.concat([X_test, test_g3], axis=1)"
      ],
      "execution_count": 0,
      "outputs": []
    },
    {
      "cell_type": "markdown",
      "metadata": {
        "id": "U_sNAjnzIh1S",
        "colab_type": "text"
      },
      "source": [
        "Implementing the Bayes Linear Regression consists of two major steps:\n",
        " \n",
        "1.   Creation of a Generalized Linear Model (GLM) mapping selected features (inputs) to the output (target)\n",
        "2.   Finding posterior distributions for the parameters after drawing sample from the posteriors with some sampling algorithm (Markov Chain Monte Carlo in our case)\n",
        "\n"
      ]
    },
    {
      "cell_type": "code",
      "metadata": {
        "id": "RXCTeUT4lKdC",
        "colab_type": "code",
        "colab": {}
      },
      "source": [
        "## patsy formula in which we want to regress G3 against N highly correlated features\n",
        "blr_formula = 'G3 ~ ' + ' + '.join(['%s' % variable for variable in X_train.columns[1:]])\n",
        "\n",
        "with pymc3.Model() as normal_model:\n",
        "    \n",
        "    # The prior for the model parameters will be a normal distribution\n",
        "    global X_train, mcmc_sampling_trace\n",
        "    family = pymc3.glm.families.Normal()\n",
        "    \n",
        "    # creatiing Generalized Model from the formula\n",
        "    pymc3.GLM.from_formula(blr_formula, data = X_train, family = family)\n",
        "    \n",
        "    # Perform Markov Chain Monte Carlo sampling\n",
        "    #mcmc_sampling_trace = pymc3.sample(draws=2000, chains = 2, tune = 500, cores=2, nuts_kwargs=dict(target_accept=0.95))\n",
        "    #mcmc_sampling_trace = pymc3.sample(1000, tune=2000)\n",
        "    mcmc_sampling_trace = pymc3.sample(draws=3000, chains = 2, tune = 500, cores=-1)"
      ],
      "execution_count": 0,
      "outputs": []
    },
    {
      "cell_type": "markdown",
      "metadata": {
        "id": "sbS1zdpIm5Zj",
        "colab_type": "text"
      },
      "source": [
        "To run this code efficiently, GPU were used in Google Colab and which helped to complete the code execution in almost one minute. Whereas, in the local machine, the esimated time of completion was more than an hour.\n",
        "![image.png](data:image/png;base64,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)"
      ]
    },
    {
      "cell_type": "code",
      "metadata": {
        "id": "ud-HdLY3lKdJ",
        "colab_type": "code",
        "colab": {}
      },
      "source": [
        "for variable in mcmc_sampling_trace.varnames:\n",
        "    print('Variable: {:15} Mean weight in model: {:.4f}'.format(variable, \n",
        "                                                                np.mean(mcmc_sampling_trace[variable])))"
      ],
      "execution_count": 0,
      "outputs": []
    },
    {
      "cell_type": "markdown",
      "metadata": {
        "id": "ftA3q2RDmyJK",
        "colab_type": "text"
      },
      "source": [
        ""
      ]
    },
    {
      "cell_type": "code",
      "metadata": {
        "id": "OrcaFmZLMwjM",
        "colab_type": "code",
        "colab": {}
      },
      "source": [
        "X_train = X_train.drop(columns='G3')\n",
        "X_test = X_test.drop(columns='G3')"
      ],
      "execution_count": 0,
      "outputs": []
    },
    {
      "cell_type": "markdown",
      "metadata": {
        "id": "WyzbwQmKn-zw",
        "colab_type": "text"
      },
      "source": [
        "## (c) Examining Bayesian Linear Regression Results\n"
      ]
    },
    {
      "cell_type": "code",
      "metadata": {
        "id": "8Yl-IC3nomeu",
        "colab_type": "code",
        "colab": {}
      },
      "source": [
        "def trace_with_mean():\n",
        "    # Traceplot with vertical lines at the mean value\n",
        "    ax = pymc3.traceplot(mcmc_sampling_trace, figsize=(14, len(mcmc_sampling_trace.varnames)*1.8),\n",
        "                      lines={k: v['mean'] for k, v in pymc3.summary(mcmc_sampling_trace).iterrows()})\n",
        "    \n",
        "    matplotlib.rcParams['font.size'] = 16\n",
        "    \n",
        "    # Labels with the median value\n",
        "    for i, mn in enumerate(pymc3.summary(mcmc_sampling_trace)['mean']):\n",
        "        ax[i, 0].annotate('{:0.2f}'.format(mn), xy = (mn, 0), xycoords = 'data', size = 8,\n",
        "                          xytext = (-18, 18), textcoords = 'offset points', rotation = 90,\n",
        "                          va = 'bottom', fontsize = 'large', color = 'red')\n",
        "        ax[i,0].axvline(x=mn, color=\"r\", lw=1.5)\n",
        "        '''\n",
        "        plt.vlines(x = mn, ymin = 0, ymax = 0.11, \n",
        "               linestyles = '-', colors = 'orange',\n",
        "               label = 'Mean Estimate',\n",
        "              linewidth = 2.5)\n",
        "              '''"
      ],
      "execution_count": 0,
      "outputs": []
    },
    {
      "cell_type": "code",
      "metadata": {
        "id": "RVp4SfrFprCt",
        "colab_type": "code",
        "colab": {}
      },
      "source": [
        "trace_with_mean()"
      ],
      "execution_count": 0,
      "outputs": []
    },
    {
      "cell_type": "code",
      "metadata": {
        "id": "64JEi97sDGO3",
        "colab_type": "code",
        "colab": {}
      },
      "source": [
        "pymc3.forestplot(mcmc_sampling_trace)"
      ],
      "execution_count": 0,
      "outputs": []
    },
    {
      "cell_type": "code",
      "metadata": {
        "id": "ZEFvyhovDbIR",
        "colab_type": "code",
        "colab": {}
      },
      "source": [
        "pymc3.plot_posterior(mcmc_sampling_trace, figsize = (14, 14));"
      ],
      "execution_count": 0,
      "outputs": []
    },
    {
      "cell_type": "code",
      "metadata": {
        "id": "oxb8W5KjD5gT",
        "colab_type": "code",
        "colab": {}
      },
      "source": [
        "pymc3.summary(mcmc_sampling_trace)"
      ],
      "execution_count": 0,
      "outputs": []
    },
    {
      "cell_type": "markdown",
      "metadata": {
        "id": "GVQELLSSDCKr",
        "colab_type": "text"
      },
      "source": [
        "Following features are positively correlated with the final grade:\n",
        "*   Mother\n",
        "*   List item\n",
        "*   Mother\n",
        "*   List item\n",
        "*   Mother\n",
        "*   List item\n",
        "\n"
      ]
    },
    {
      "cell_type": "markdown",
      "metadata": {
        "id": "lO-SDzlyBckh",
        "colab_type": "text"
      },
      "source": [
        "## (d)  Evaluating Bayesian Model"
      ]
    },
    {
      "cell_type": "code",
      "metadata": {
        "id": "Ae2t0GvUrpQp",
        "colab_type": "code",
        "colab": {}
      },
      "source": [
        "def evaluate_results(trace):\n",
        "    global X_test, y_test, X_train, y_train\n",
        "    \n",
        "    # Dictionary of all sampled values for each parameter\n",
        "    var_dict = {}\n",
        "    for variable in trace.varnames:\n",
        "        var_dict[variable] = trace[variable]\n",
        "        \n",
        "    # Results into a dataframe\n",
        "    var_weights = pd.DataFrame(var_dict)\n",
        "    \n",
        "    # Means for all the weights\n",
        "    var_means = var_weights.mean(axis=0)\n",
        "    \n",
        "    # Create an intercept column\n",
        "    X_test['Intercept'] = 1\n",
        "    \n",
        "    # align names of the test observations and means\n",
        "    names = X_test.columns[1:]\n",
        "    X_test = X_test.loc[:, names]\n",
        "    var_means = var_means[names]\n",
        "    \n",
        "    # Calculate estimate for each test observation using the average weights\n",
        "    pred_results = pd.DataFrame(index = X_test.index, columns = ['estimate'])\n",
        "    print(\"Dot product not done\")\n",
        "    for row in X_test.iterrows():\n",
        "        pred_results.loc[row[0], 'estimate'] = np.dot(np.array(var_means), np.array(row[1]))\n",
        "    print(\"Dot Product Done\")    \n",
        "    # Metrics \n",
        "    actual = np.array(y_test)\n",
        "    errors = pred_results['estimate'] - actual\n",
        "    mae = np.mean(abs(errors))\n",
        "    print(\"Mean is\", mae)\n",
        "    rmse = np.sqrt(np.mean(errors ** 2))\n",
        "    \n",
        "    print('Model  MAE: {:.4f}\\nModel RMSE: {:.4f}'.format(mae, rmse))\n",
        "    results = iterate_models()\n",
        "    results.loc['Bayes LR', :] = [mae, rmse]\n",
        "    print(results)\n",
        "    # Add the results to the comparison dataframe\n",
        "    \n",
        "    \n",
        "    plt.figure(figsize=(12, 8))\n",
        "    \n",
        "    # Plot median absolute percentage error of all models\n",
        "    ax = plt.subplot(1, 2, 1)\n",
        "    results.sort_values('mae', ascending = True).plot.bar(y = 'mae', color = 'r', ax = ax)\n",
        "    plt.title('Model Mean Absolute Error Comparison'); plt.ylabel('MAE'); \n",
        "    plt.tight_layout()\n",
        "    \n",
        "    # Plot root mean squared error of all models\n",
        "    ax = plt.subplot(1, 2, 2)\n",
        "    results.sort_values('rmse', ascending = True).plot.bar(y = 'rmse', color = 'b', ax = ax)\n",
        "    plt.title('Model RMSE Comparison'); plt.ylabel('RMSE')\n",
        "    \n",
        "    return results"
      ],
      "execution_count": 0,
      "outputs": []
    },
    {
      "cell_type": "code",
      "metadata": {
        "id": "qfyNzfcwsf7v",
        "colab_type": "code",
        "colab": {}
      },
      "source": [
        "global mcmc_sampling_trace\n",
        "all_model_results = evaluate_results(mcmc_sampling_trace)"
      ],
      "execution_count": 0,
      "outputs": []
    },
    {
      "cell_type": "markdown",
      "metadata": {
        "id": "7OKVVS2YBi7E",
        "colab_type": "text"
      },
      "source": [
        "It can be seen in the above figure that, both in terms of Mean Absolute Error (MAE) and Root Mean Squared Error (RMSE), the implemented Bayes Linear Regression model performs better than all the other imported algorithms."
      ]
    },
    {
      "cell_type": "markdown",
      "metadata": {
        "id": "J22NaTdMB63E",
        "colab_type": "text"
      },
      "source": [
        "## (e)  Predictions from Model on unseen (test) dataset"
      ]
    },
    {
      "cell_type": "code",
      "metadata": {
        "id": "TJxXZ8-VJoqk",
        "colab_type": "code",
        "colab": {}
      },
      "source": [
        "## this function will make predictions using the trained bayes linear regression model\n",
        "# flag would be 0 when the function is being called with dummy data values created on the fly and would be 1 if one of the testing data record value is being predicted\n",
        "# chosen_test_index will hold index of testing data record when flag is 1, and will hold the dummy data itself when flag is 0\n",
        "\n",
        "def make_predictions(chosen_test_index, flag):\n",
        "    # Print out the test observation data\n",
        "    if flag:  # flag is 1, one of the testing dataset record is sent for prediction\n",
        "      chosen_test = X_test.iloc[chosen_test_index]\n",
        "    else:   # flag is set as 0, dummy dataset is sent\n",
        "      chosen_test = chosen_test_index\n",
        "    print('Test Observation:')\n",
        "    print(chosen_test)\n",
        "    variable_dict = {}\n",
        "    for variable in mcmc_sampling_trace.varnames:\n",
        "        variable_dict[variable] = mcmc_sampling_trace[variable]\n",
        "\n",
        "    # Results into a dataframe\n",
        "    variable_weights = pd.DataFrame(variable_dict)\n",
        "    \n",
        "    # Standard deviation of the likelihood\n",
        "    sd_value = variable_weights['sd'].mean()\n",
        "\n",
        "    if flag:  # value against the test record index\n",
        "      actual = y_test.iloc[chosen_test_index]\n",
        "      #chosen_test = chosen_test.drop('G3')\n",
        "    \n",
        "    # Add in intercept term\n",
        "    chosen_test['Intercept'] = 1\n",
        "    \n",
        "    # Align weights and test observation\n",
        "    variable_weights = variable_weights[chosen_test.index]\n",
        "\n",
        "    # Means for all the weights\n",
        "    variable_means = variable_weights.mean(axis=0)\n",
        "\n",
        "    # Observation mean \n",
        "    observation_mean = np.dot(variable_means, chosen_test)\n",
        "    \n",
        "    # Grade Estimate\n",
        "    estimated_values = np.random.normal(loc = observation_mean, scale = sd_value,\n",
        "                                 size = 10000)\n",
        "\n",
        "    \n",
        "    plt.figure(figsize=(7, 7))\n",
        "    sns.distplot(estimated_values, hist = True, kde = True, bins = 19,\n",
        "                 hist_kws = {'edgecolor': 'k', 'color': 'green'},\n",
        "                kde_kws = {'linewidth' : 3},\n",
        "                label = 'Estimated Dist.')\n",
        "    # Plot the actual grade\n",
        "    if flag:\n",
        "      plt.vlines(x = actual, ymin = 0, ymax = 0.11, \n",
        "               linestyles = '--', colors = 'red',\n",
        "               label = 'True Grade',\n",
        "              linewidth = 2.5)\n",
        "    \n",
        "    # Plot the mean estimate\n",
        "    plt.vlines(x = observation_mean, ymin = 0, ymax = 0.11, \n",
        "               linestyles = '-', colors = 'orange',\n",
        "               label = 'Mean Estimate',\n",
        "              linewidth = 2.5)\n",
        "    \n",
        "    plt.legend(loc = 1)\n",
        "    plt.title('Density Plot for Predictions on Test Data');\n",
        "    plt.xlabel('Grade'); plt.ylabel('Density');\n",
        "    \n",
        "    # Prediction information\n",
        "    if flag:\n",
        "      print('True Grade = %d' % actual)\n",
        "    print('Average Estimate = %0.4f' % observation_mean)\n",
        "    print('5%% Estimate = %0.4f    95%% Estimate = %0.4f' % (np.percentile(estimated_values, 5),\n",
        "                                       np.percentile(estimated_values, 95)))"
      ],
      "execution_count": 0,
      "outputs": []
    },
    {
      "cell_type": "code",
      "metadata": {
        "id": "rV6qklvVa07t",
        "colab_type": "code",
        "colab": {}
      },
      "source": [
        "make_predictions(43, 1) ## giving 43rd record as an argument to the predictive function"
      ],
      "execution_count": 0,
      "outputs": []
    },
    {
      "cell_type": "code",
      "metadata": {
        "id": "Lu597DLvsigZ",
        "colab_type": "code",
        "colab": {}
      },
      "source": [
        "unseen_observation = pd.Series({'Intercept': 1, 'age': 18, 'goout': 2, 'romantic_yes': 0, \n",
        "                            'higher_yes': 1, 'traveltime': 2, 'Mjob_health' : 0, 'Fedu': 4, 'Mjob_at_home': 1})\n",
        "make_predictions(unseen_observation, 0)"
      ],
      "execution_count": 0,
      "outputs": []
    },
    {
      "cell_type": "code",
      "metadata": {
        "id": "1FgX3N_-H-gw",
        "colab_type": "code",
        "colab": {}
      },
      "source": [
        "dill.dump_session('/content/drive/My Drive/Colab Notebooks/sd_cw_env_2.db')"
      ],
      "execution_count": 0,
      "outputs": []
    },
    {
      "cell_type": "code",
      "metadata": {
        "id": "OmI4YLv6jB5R",
        "colab_type": "code",
        "colab": {}
      },
      "source": [
        "import warnings\n",
        "warnings.filterwarnings('ignore')"
      ],
      "execution_count": 0,
      "outputs": []
    },
    {
      "cell_type": "markdown",
      "metadata": {
        "id": "9Jgz38a81gkq",
        "colab_type": "text"
      },
      "source": [
        "## Conclusion and future works: \n",
        "\n",
        "Please recall your contribution in this section and try to indicate the links between this coursework topic and your MSc course while the potential applications should be given as your perspectives."
      ]
    },
    {
      "cell_type": "markdown",
      "metadata": {
        "id": "tKvNdV591ogu",
        "colab_type": "text"
      },
      "source": [
        "## Appendix - Self Assessment\n",
        "Please make a self-assessment including the marks you are expecting with some reasons. For example: ‘I believe that potentially my report would be marked as 60 out of 100, because …’"
      ]
    },
    {
      "cell_type": "code",
      "metadata": {
        "id": "mCXGwWdg5BcH",
        "colab_type": "code",
        "colab": {}
      },
      "source": [
        ""
      ],
      "execution_count": 0,
      "outputs": []
    }
  ]
}